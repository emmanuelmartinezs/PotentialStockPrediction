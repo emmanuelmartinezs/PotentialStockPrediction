{
 "cells": [
  {
   "cell_type": "markdown",
   "metadata": {},
   "source": [
    "Project: Develop a Crypto Ticker dashboard that either allows the user to enter a ticker symbol into an input box, or to select item(s) from a dropdown list, and uses pd.read_csv to look up and display cryptocurrency data on a graph."
   ]
  },
  {
   "cell_type": "markdown",
   "metadata": {},
   "source": [
    "# EXPAND CRYPTOCURRENCY SYMBOL INPUT TO PERMIT MULTIPLE SELECTIONS"
   ]
  },
  {
   "cell_type": "markdown",
   "metadata": {},
   "source": [
    "### NOTE: Created TEST template using stock data from iexcloud.io\n",
    "### TO-DO: need to update to show Cryptocurrency values from CSV 30days forecast file created using fbprophet."
   ]
  },
  {
   "cell_type": "code",
   "execution_count": 1,
   "metadata": {},
   "outputs": [],
   "source": [
    "# Import dependencies\n",
    "\n",
    "import dash\n",
    "import dash_core_components as dcc\n",
    "import dash_html_components as html\n",
    "from dash.dependencies import Input, Output, State\n",
    "import pandas_datareader.data as web # TO-DO: WANT TO REPLACE USING pd.read_csv\n",
    "from datetime import datetime\n",
    "import pandas as pd"
   ]
  },
  {
   "cell_type": "code",
   "execution_count": 2,
   "metadata": {},
   "outputs": [],
   "source": [
    "# Import IEX API key from config\n",
    "\n",
    "#import os\n",
    "#from config import api_key  # DOESN'T WORK, must include token via web.DataReader"
   ]
  },
  {
   "cell_type": "code",
   "execution_count": 3,
   "metadata": {},
   "outputs": [],
   "source": [
    "# create Dash application\n",
    "\n",
    "app = dash.Dash()"
   ]
  },
  {
   "cell_type": "code",
   "execution_count": 4,
   "metadata": {},
   "outputs": [],
   "source": [
    "# read a .csv file, make a dataframe, and build a list of Dropdown options\n",
    "\n",
    "nsdq = pd.read_csv('../data/NASDAQcompanylist.csv') # TO-DO: Need to replace with Crypto csv file\n",
    "#crypto.set_index('Symbol', inplace=True)\n",
    "nsdq.set_index('Symbol', inplace=True)\n",
    "options = []\n",
    "for tic in nsdq.index:\n",
    "    options.append({'label':'{} {}'.format(tic,nsdq.loc[tic]['Name']), 'value':tic})"
   ]
  },
  {
   "cell_type": "code",
   "execution_count": null,
   "metadata": {},
   "outputs": [
    {
     "name": "stdout",
     "output_type": "stream",
     "text": [
      "Dash is running on http://127.0.0.1:8050/\n",
      "\n",
      " * Serving Flask app \"__main__\" (lazy loading)\n",
      " * Environment: production\n",
      "\u001b[31m   WARNING: This is a development server. Do not use it in a production deployment.\u001b[0m\n",
      "\u001b[2m   Use a production WSGI server instead.\u001b[0m\n",
      " * Debug mode: off\n"
     ]
    },
    {
     "name": "stderr",
     "output_type": "stream",
     "text": [
      " * Running on http://127.0.0.1:8050/ (Press CTRL+C to quit)\n",
      "127.0.0.1 - - [22/Mar/2021 14:34:14] \"\u001b[37mGET / HTTP/1.1\u001b[0m\" 200 -\n",
      "127.0.0.1 - - [22/Mar/2021 14:34:14] \"\u001b[37mGET /_dash-dependencies HTTP/1.1\u001b[0m\" 200 -\n",
      "127.0.0.1 - - [22/Mar/2021 14:34:14] \"\u001b[37mGET /_dash-layout HTTP/1.1\u001b[0m\" 200 -\n",
      "127.0.0.1 - - [22/Mar/2021 14:34:15] \"\u001b[37mPOST /_dash-update-component HTTP/1.1\u001b[0m\" 200 -\n",
      "127.0.0.1 - - [22/Mar/2021 14:34:24] \"\u001b[37mPOST /_dash-update-component HTTP/1.1\u001b[0m\" 200 -\n",
      "127.0.0.1 - - [22/Mar/2021 14:34:40] \"\u001b[37mPOST /_dash-update-component HTTP/1.1\u001b[0m\" 200 -\n",
      "127.0.0.1 - - [22/Mar/2021 14:38:18] \"\u001b[37mPOST /_dash-update-component HTTP/1.1\u001b[0m\" 200 -\n",
      "127.0.0.1 - - [22/Mar/2021 14:39:11] \"\u001b[37mPOST /_dash-update-component HTTP/1.1\u001b[0m\" 200 -\n"
     ]
    }
   ],
   "source": [
    "# create a Div to contain basic headers, an input box, and graph\n",
    "\n",
    "app.layout = html.Div([\n",
    "    html.H1('Crypto Crystal Ball Dashboard'),\n",
    "    html.Div([\n",
    "        # add styles to enlarge the input box and make room for DatePickerRange\n",
    "        html.H3('Select stock symbols:', style={'paddingRight':'30px'}),\n",
    "        # replace dcc.Input with dcc.Options, set options=options\n",
    "        dcc.Dropdown(\n",
    "            # add an ID to the input box\n",
    "            id='my_ticker_symbol',\n",
    "            options=options,\n",
    "            # sets a default value\n",
    "            value=['TSLA'],\n",
    "            multi=True\n",
    "        )\n",
    "    # widen the Div to fit multiple inputs\n",
    "    ], style={'display':'inline-block', 'verticalAlign':'top', 'width':'30%'}),\n",
    "    # add a Div to contain the DatePickerRange\n",
    "    html.Div([\n",
    "        html.H3('Select start and end dates:'),\n",
    "        dcc.DatePickerRange(\n",
    "            id='my_date_picker',\n",
    "            min_date_allowed=datetime(2015, 1, 1),\n",
    "            max_date_allowed=datetime.today(),\n",
    "            start_date=datetime(2018, 1, 1),\n",
    "            end_date=datetime.today()\n",
    "        )\n",
    "    ], style={'display':'inline-block'}),\n",
    "    # add a Button element\n",
    "    html.Div([\n",
    "        html.Button(\n",
    "            id='submit-button',\n",
    "            n_clicks=0,\n",
    "            children='Submit',\n",
    "            style={'fontSize':24, 'marginLeft':'30px'}\n",
    "        ),\n",
    "    ], style={'display':'inline-block'}),\n",
    "    dcc.Graph(\n",
    "        # add an ID  to the graph\n",
    "        id='my_graph',\n",
    "        figure={\n",
    "            'data': [\n",
    "                {'x': [1,2], 'y': [3,1]}\n",
    "            ]\n",
    "        }\n",
    "    )\n",
    "])\n",
    "\n",
    "# Add a callback function\n",
    "@app.callback(\n",
    "    # add inputs from the DatePickerRange component\n",
    "    Output('my_graph', 'figure'),\n",
    "    # add a button input, and move previous inputs to State\n",
    "    [Input('submit-button', 'n_clicks')],\n",
    "    [State('my_ticker_symbol', 'value'),\n",
    "    State('my_date_picker', 'start_date'),\n",
    "    State('my_date_picker', 'end_date')])\n",
    "\n",
    "# pass n_clicks into the output function\n",
    "def update_graph(n_clicks, stock_ticker, start_date, end_date):\n",
    "    # Use datareader and datetime to define a DataFrame\n",
    "    start = datetime.strptime(start_date[:10], '%Y-%m-%d')\n",
    "    end = datetime.strptime(end_date[:10], '%Y-%m-%d')\n",
    "    # since stock_ticker is now a list of symbols, create a list of traces\n",
    "    traces = []\n",
    "    for tic in stock_ticker:\n",
    "        # TO-DO: UPLACE USING pd.read_csv\n",
    "        df = web.DataReader(tic,'iex',start,end, api_key='pk_fc7ddbd8b31249ac83607bf910d604fa') # TO-DO: Need to get config to work to hide token\n",
    "        traces.append({'x':df.index, 'y': df.close, 'name':tic})\n",
    "    # Change the output data\n",
    "    fig = {\n",
    "        # set data equal to traces\n",
    "        'data': traces,\n",
    "        # use string formatting to include all symbols in the chart title\n",
    "        'layout': {'title':', '.join(stock_ticker)+' Closing Prices'}\n",
    "    }\n",
    "    return fig\n",
    "\n",
    "\n",
    "# Add the server clause\n",
    "if __name__ == '__main__':\n",
    "    app.run_server()"
   ]
  },
  {
   "cell_type": "code",
   "execution_count": null,
   "metadata": {},
   "outputs": [],
   "source": []
  }
 ],
 "metadata": {
  "kernelspec": {
   "display_name": "Python 3",
   "language": "python",
   "name": "python3"
  },
  "language_info": {
   "codemirror_mode": {
    "name": "ipython",
    "version": 3
   },
   "file_extension": ".py",
   "mimetype": "text/x-python",
   "name": "python",
   "nbconvert_exporter": "python",
   "pygments_lexer": "ipython3",
   "version": "3.8.3"
  }
 },
 "nbformat": 4,
 "nbformat_minor": 4
}
