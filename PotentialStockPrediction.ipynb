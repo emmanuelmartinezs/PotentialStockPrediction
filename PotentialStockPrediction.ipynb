{
 "cells": [
  {
   "cell_type": "markdown",
   "metadata": {
    "id": "hZMZ6kTq7HZs"
   },
   "source": [
    "# **FINAL PROJECT** - Columbia Engineering 2021"
   ]
  },
  {
   "cell_type": "markdown",
   "metadata": {
    "id": "MmBQsJYO7Qs2"
   },
   "source": [
    "# **Potential Stock Prediction**"
   ]
  },
  {
   "cell_type": "markdown",
   "metadata": {
    "id": "ncbLr7QKTksc"
   },
   "source": [
    "### **Using nbinteract CLI Usage as #nbi:hide_in to hide our Python Code**"
   ]
  },
  {
   "cell_type": "markdown",
   "metadata": {
    "id": "RDJuRpF-7pui"
   },
   "source": [
    "## **PART #1** - Packages Installation."
   ]
  },
  {
   "cell_type": "markdown",
   "metadata": {
    "id": "XrJw1DRa7dxL"
   },
   "source": [
    "First, let's install all dependencies to have our Software up to date and with all tools that we need.  "
   ]
  },
  {
   "cell_type": "code",
   "execution_count": 1,
   "metadata": {
    "colab": {
     "base_uri": "https://localhost:8080/",
     "height": 1000
    },
    "id": "jM0ll0bpTGuO",
    "outputId": "3c10ba77-ee06-417b-bf78-da517f1a6600"
   },
   "outputs": [
    {
     "output_type": "stream",
     "name": "stdout",
     "text": [
      "Requirement already satisfied: nbinteract in c:\\users\\emman\\anaconda3\\lib\\site-packages (0.2.6)\nRequirement already satisfied: nbconvert>=5.3 in c:\\users\\emman\\anaconda3\\lib\\site-packages (from nbinteract) (5.6.1)\nRequirement already satisfied: ipywidgets<8,>=7.5.0 in c:\\users\\emman\\anaconda3\\lib\\site-packages (from nbinteract) (7.6.3)\nRequirement already satisfied: traitlets<5,>=4.3 in c:\\users\\emman\\anaconda3\\lib\\site-packages (from nbinteract) (4.3.3)\nRequirement already satisfied: nbformat<5,>=4.4.0 in c:\\users\\emman\\anaconda3\\lib\\site-packages (from nbinteract) (4.4.0)\nRequirement already satisfied: Jinja2<3,>=2.10 in c:\\users\\emman\\anaconda3\\lib\\site-packages (from nbinteract) (2.11.3)\nRequirement already satisfied: bqplot==0.11.0 in c:\\users\\emman\\anaconda3\\lib\\site-packages (from nbinteract) (0.11.0)\nRequirement already satisfied: toolz<1,>=0.8 in c:\\users\\emman\\anaconda3\\lib\\site-packages (from nbinteract) (0.11.1)\nRequirement already satisfied: docopt<1,>=0.6.2 in c:\\users\\emman\\anaconda3\\lib\\site-packages (from nbinteract) (0.6.2)\nRequirement already satisfied: IPython<8,>=6 in c:\\users\\emman\\anaconda3\\lib\\site-packages (from nbinteract) (7.21.0)\nRequirement already satisfied: numpy<2,>=1 in c:\\users\\emman\\anaconda3\\lib\\site-packages (from nbinteract) (1.19.5)\nRequirement already satisfied: traittypes>=0.0.6 in c:\\users\\emman\\anaconda3\\lib\\site-packages (from bqplot==0.11.0->nbinteract) (0.2.1)\nRequirement already satisfied: pandas in c:\\users\\emman\\anaconda3\\lib\\site-packages (from bqplot==0.11.0->nbinteract) (1.2.3)\nRequirement already satisfied: jedi>=0.16 in c:\\users\\emman\\anaconda3\\lib\\site-packages (from IPython<8,>=6->nbinteract) (0.18.0)\nRequirement already satisfied: prompt-toolkit!=3.0.0,!=3.0.1,<3.1.0,>=2.0.0 in c:\\users\\emman\\anaconda3\\lib\\site-packages (from IPython<8,>=6->nbinteract) (3.0.17)\nRequirement already satisfied: backcall in c:\\users\\emman\\anaconda3\\lib\\site-packages (from IPython<8,>=6->nbinteract) (0.2.0)\nRequirement already satisfied: pickleshare in c:\\users\\emman\\anaconda3\\lib\\site-packages (from IPython<8,>=6->nbinteract) (0.7.5)\nRequirement already satisfied: colorama in c:\\users\\emman\\anaconda3\\lib\\site-packages (from IPython<8,>=6->nbinteract) (0.4.4)\nRequirement already satisfied: setuptools>=18.5 in c:\\users\\emman\\anaconda3\\lib\\site-packages (from IPython<8,>=6->nbinteract) (52.0.0.post20210125)\nRequirement already satisfied: pygments in c:\\users\\emman\\anaconda3\\lib\\site-packages (from IPython<8,>=6->nbinteract) (2.8.1)\nRequirement already satisfied: decorator in c:\\users\\emman\\anaconda3\\lib\\site-packages (from IPython<8,>=6->nbinteract) (4.4.2)\nRequirement already satisfied: widgetsnbextension~=3.5.0 in c:\\users\\emman\\anaconda3\\lib\\site-packages (from ipywidgets<8,>=7.5.0->nbinteract) (3.5.1)\nRequirement already satisfied: jupyterlab-widgets>=1.0.0 in c:\\users\\emman\\anaconda3\\lib\\site-packages (from ipywidgets<8,>=7.5.0->nbinteract) (1.0.0)\nRequirement already satisfied: ipykernel>=4.5.1 in c:\\users\\emman\\anaconda3\\lib\\site-packages (from ipywidgets<8,>=7.5.0->nbinteract) (5.5.0)\nRequirement already satisfied: jupyter-client in c:\\users\\emman\\anaconda3\\lib\\site-packages (from ipykernel>=4.5.1->ipywidgets<8,>=7.5.0->nbinteract) (6.1.12)\nRequirement already satisfied: tornado>=4.2 in c:\\users\\emman\\anaconda3\\lib\\site-packages (from ipykernel>=4.5.1->ipywidgets<8,>=7.5.0->nbinteract) (6.1)\nRequirement already satisfied: parso<0.9.0,>=0.8.0 in c:\\users\\emman\\anaconda3\\lib\\site-packages (from jedi>=0.16->IPython<8,>=6->nbinteract) (0.8.1)\nRequirement already satisfied: MarkupSafe>=0.23 in c:\\users\\emman\\anaconda3\\lib\\site-packages (from Jinja2<3,>=2.10->nbinteract) (1.1.1)\nRequirement already satisfied: jupyter-core in c:\\users\\emman\\anaconda3\\lib\\site-packages (from nbconvert>=5.3->nbinteract) (4.7.1)\nRequirement already satisfied: pandocfilters>=1.4.1 in c:\\users\\emman\\anaconda3\\lib\\site-packages (from nbconvert>=5.3->nbinteract) (1.4.2)\nRequirement already satisfied: mistune<2,>=0.8.1 in c:\\users\\emman\\anaconda3\\lib\\site-packages (from nbconvert>=5.3->nbinteract) (0.8.4)\nRequirement already satisfied: bleach in c:\\users\\emman\\anaconda3\\lib\\site-packages (from nbconvert>=5.3->nbinteract) (3.3.0)\nRequirement already satisfied: defusedxml in c:\\users\\emman\\anaconda3\\lib\\site-packages (from nbconvert>=5.3->nbinteract) (0.7.1)\nRequirement already satisfied: entrypoints>=0.2.2 in c:\\users\\emman\\anaconda3\\lib\\site-packages (from nbconvert>=5.3->nbinteract) (0.3)\nRequirement already satisfied: testpath in c:\\users\\emman\\anaconda3\\lib\\site-packages (from nbconvert>=5.3->nbinteract) (0.4.4)\nRequirement already satisfied: ipython-genutils in c:\\users\\emman\\anaconda3\\lib\\site-packages (from nbformat<5,>=4.4.0->nbinteract) (0.2.0)\nRequirement already satisfied: jsonschema!=2.5.0,>=2.4 in c:\\users\\emman\\anaconda3\\lib\\site-packages (from nbformat<5,>=4.4.0->nbinteract) (3.2.0)\nRequirement already satisfied: attrs>=17.4.0 in c:\\users\\emman\\anaconda3\\lib\\site-packages (from jsonschema!=2.5.0,>=2.4->nbformat<5,>=4.4.0->nbinteract) (20.3.0)\nRequirement already satisfied: six>=1.11.0 in c:\\users\\emman\\anaconda3\\lib\\site-packages (from jsonschema!=2.5.0,>=2.4->nbformat<5,>=4.4.0->nbinteract) (1.15.0)\nRequirement already satisfied: pyrsistent>=0.14.0 in c:\\users\\emman\\anaconda3\\lib\\site-packages (from jsonschema!=2.5.0,>=2.4->nbformat<5,>=4.4.0->nbinteract) (0.17.3)\nRequirement already satisfied: wcwidth in c:\\users\\emman\\anaconda3\\lib\\site-packages (from prompt-toolkit!=3.0.0,!=3.0.1,<3.1.0,>=2.0.0->IPython<8,>=6->nbinteract) (0.2.5)\nRequirement already satisfied: notebook>=4.4.1 in c:\\users\\emman\\anaconda3\\lib\\site-packages (from widgetsnbextension~=3.5.0->ipywidgets<8,>=7.5.0->nbinteract) (6.2.0)\nRequirement already satisfied: argon2-cffi in c:\\users\\emman\\anaconda3\\lib\\site-packages (from notebook>=4.4.1->widgetsnbextension~=3.5.0->ipywidgets<8,>=7.5.0->nbinteract) (20.1.0)\nRequirement already satisfied: Send2Trash>=1.5.0 in c:\\users\\emman\\anaconda3\\lib\\site-packages (from notebook>=4.4.1->widgetsnbextension~=3.5.0->ipywidgets<8,>=7.5.0->nbinteract) (1.5.0)\nRequirement already satisfied: terminado>=0.8.3 in c:\\users\\emman\\anaconda3\\lib\\site-packages (from notebook>=4.4.1->widgetsnbextension~=3.5.0->ipywidgets<8,>=7.5.0->nbinteract) (0.9.3)\nRequirement already satisfied: prometheus-client in c:\\users\\emman\\anaconda3\\lib\\site-packages (from notebook>=4.4.1->widgetsnbextension~=3.5.0->ipywidgets<8,>=7.5.0->nbinteract) (0.9.0)\nRequirement already satisfied: pyzmq>=17 in c:\\users\\emman\\anaconda3\\lib\\site-packages (from notebook>=4.4.1->widgetsnbextension~=3.5.0->ipywidgets<8,>=7.5.0->nbinteract) (22.0.3)\nRequirement already satisfied: python-dateutil>=2.1 in c:\\users\\emman\\anaconda3\\lib\\site-packages (from jupyter-client->ipykernel>=4.5.1->ipywidgets<8,>=7.5.0->nbinteract) (2.8.1)\nRequirement already satisfied: pywin32>=1.0 in c:\\users\\emman\\anaconda3\\lib\\site-packages (from jupyter-core->nbconvert>=5.3->nbinteract) (227)\nRequirement already satisfied: pywinpty>=0.5 in c:\\users\\emman\\anaconda3\\lib\\site-packages (from terminado>=0.8.3->notebook>=4.4.1->widgetsnbextension~=3.5.0->ipywidgets<8,>=7.5.0->nbinteract) (0.5.7)\nRequirement already satisfied: cffi>=1.0.0 in c:\\users\\emman\\anaconda3\\lib\\site-packages (from argon2-cffi->notebook>=4.4.1->widgetsnbextension~=3.5.0->ipywidgets<8,>=7.5.0->nbinteract) (1.14.5)\nRequirement already satisfied: pycparser in c:\\users\\emman\\anaconda3\\lib\\site-packages (from cffi>=1.0.0->argon2-cffi->notebook>=4.4.1->widgetsnbextension~=3.5.0->ipywidgets<8,>=7.5.0->nbinteract) (2.20)\nRequirement already satisfied: webencodings in c:\\users\\emman\\anaconda3\\lib\\site-packages (from bleach->nbconvert>=5.3->nbinteract) (0.5.1)\nRequirement already satisfied: packaging in c:\\users\\emman\\anaconda3\\lib\\site-packages (from bleach->nbconvert>=5.3->nbinteract) (20.9)\nRequirement already satisfied: pyparsing>=2.0.2 in c:\\users\\emman\\anaconda3\\lib\\site-packages (from packaging->bleach->nbconvert>=5.3->nbinteract) (2.4.7)\nRequirement already satisfied: pytz>=2017.3 in c:\\users\\emman\\anaconda3\\lib\\site-packages (from pandas->bqplot==0.11.0->nbinteract) (2021.1)\n"
     ]
    }
   ],
   "source": [
    "#nbi:hide_in\n",
    "\n",
    "!pip install nbinteract"
   ]
  },
  {
   "cell_type": "code",
   "execution_count": 2,
   "metadata": {},
   "outputs": [],
   "source": [
    "#nbi:hide_in\n",
    "\n",
    "# The next two commands can be skipped for notebook version 5.3 and above\n",
    "\n",
    "#Currently using version of the notebook server is: 6.1.4\n",
    "\n",
    "#CODE if you have an older version:\n",
    "#jupyter nbextension enable --py --sys-prefix bqplot\n",
    "#jupyter nbextension enable --py --sys-prefix widgetsnbextension"
   ]
  },
  {
   "cell_type": "code",
   "execution_count": 3,
   "metadata": {
    "colab": {
     "base_uri": "https://localhost:8080/"
    },
    "id": "aePnYyOUM-Yp",
    "outputId": "98bb4b26-2a30-4bb0-de2f-2d62bd94e7ba",
    "scrolled": false
   },
   "outputs": [
    {
     "output_type": "stream",
     "name": "stdout",
     "text": [
      "Requirement already satisfied: sklearn in c:\\users\\emman\\anaconda3\\lib\\site-packages (0.0)\nRequirement already satisfied: scikit-learn in c:\\users\\emman\\anaconda3\\lib\\site-packages (from sklearn) (0.24.1)\nRequirement already satisfied: scipy>=0.19.1 in c:\\users\\emman\\anaconda3\\lib\\site-packages (from scikit-learn->sklearn) (1.6.1)\nRequirement already satisfied: numpy>=1.13.3 in c:\\users\\emman\\anaconda3\\lib\\site-packages (from scikit-learn->sklearn) (1.19.5)\nRequirement already satisfied: joblib>=0.11 in c:\\users\\emman\\anaconda3\\lib\\site-packages (from scikit-learn->sklearn) (1.0.1)\nRequirement already satisfied: threadpoolctl>=2.0.0 in c:\\users\\emman\\anaconda3\\lib\\site-packages (from scikit-learn->sklearn) (2.1.0)\n"
     ]
    }
   ],
   "source": [
    "#nbi:hide_in\n",
    "\n",
    "!pip install sklearn"
   ]
  },
  {
   "cell_type": "code",
   "execution_count": 4,
   "metadata": {
    "colab": {
     "base_uri": "https://localhost:8080/"
    },
    "id": "y9I5nK-0M4ew",
    "outputId": "569c93c9-292b-4df0-950d-5e3283bf4bed",
    "scrolled": false
   },
   "outputs": [
    {
     "output_type": "stream",
     "name": "stdout",
     "text": [
      "Requirement already satisfied: yfinance in c:\\users\\emman\\anaconda3\\lib\\site-packages (0.1.55)\nRequirement already satisfied: numpy>=1.15 in c:\\users\\emman\\anaconda3\\lib\\site-packages (from yfinance) (1.19.5)\nRequirement already satisfied: requests>=2.20 in c:\\users\\emman\\anaconda3\\lib\\site-packages (from yfinance) (2.25.1)\nRequirement already satisfied: multitasking>=0.0.7 in c:\\users\\emman\\anaconda3\\lib\\site-packages (from yfinance) (0.0.9)\nRequirement already satisfied: lxml>=4.5.1 in c:\\users\\emman\\anaconda3\\lib\\site-packages (from yfinance) (4.6.2)\nRequirement already satisfied: pandas>=0.24 in c:\\users\\emman\\anaconda3\\lib\\site-packages (from yfinance) (1.2.3)\nRequirement already satisfied: python-dateutil>=2.7.3 in c:\\users\\emman\\anaconda3\\lib\\site-packages (from pandas>=0.24->yfinance) (2.8.1)\nRequirement already satisfied: pytz>=2017.3 in c:\\users\\emman\\anaconda3\\lib\\site-packages (from pandas>=0.24->yfinance) (2021.1)\nRequirement already satisfied: six>=1.5 in c:\\users\\emman\\anaconda3\\lib\\site-packages (from python-dateutil>=2.7.3->pandas>=0.24->yfinance) (1.15.0)\nRequirement already satisfied: idna<3,>=2.5 in c:\\users\\emman\\anaconda3\\lib\\site-packages (from requests>=2.20->yfinance) (2.10)\nRequirement already satisfied: certifi>=2017.4.17 in c:\\users\\emman\\anaconda3\\lib\\site-packages (from requests>=2.20->yfinance) (2020.12.5)\nRequirement already satisfied: chardet<5,>=3.0.2 in c:\\users\\emman\\anaconda3\\lib\\site-packages (from requests>=2.20->yfinance) (4.0.0)\nRequirement already satisfied: urllib3<1.27,>=1.21.1 in c:\\users\\emman\\anaconda3\\lib\\site-packages (from requests>=2.20->yfinance) (1.26.4)\n"
     ]
    }
   ],
   "source": [
    "#nbi:hide_in\n",
    "\n",
    "!pip install yfinance"
   ]
  },
  {
   "cell_type": "code",
   "execution_count": 5,
   "metadata": {
    "colab": {
     "base_uri": "https://localhost:8080/"
    },
    "id": "nALvV4z3om_8",
    "outputId": "e32a39ec-8d2f-4175-da9b-8328fc56fd0b",
    "scrolled": false
   },
   "outputs": [
    {
     "output_type": "stream",
     "name": "stdout",
     "text": [
      "Requirement already satisfied: ipywidgets in c:\\users\\emman\\anaconda3\\lib\\site-packages (7.6.3)\nRequirement already satisfied: nbformat>=4.2.0 in c:\\users\\emman\\anaconda3\\lib\\site-packages (from ipywidgets) (4.4.0)\nRequirement already satisfied: widgetsnbextension~=3.5.0 in c:\\users\\emman\\anaconda3\\lib\\site-packages (from ipywidgets) (3.5.1)\nRequirement already satisfied: ipykernel>=4.5.1 in c:\\users\\emman\\anaconda3\\lib\\site-packages (from ipywidgets) (5.5.0)\nRequirement already satisfied: traitlets>=4.3.1 in c:\\users\\emman\\anaconda3\\lib\\site-packages (from ipywidgets) (4.3.3)\nRequirement already satisfied: jupyterlab-widgets>=1.0.0 in c:\\users\\emman\\anaconda3\\lib\\site-packages (from ipywidgets) (1.0.0)\nRequirement already satisfied: ipython>=4.0.0 in c:\\users\\emman\\anaconda3\\lib\\site-packages (from ipywidgets) (7.21.0)\nRequirement already satisfied: tornado>=4.2 in c:\\users\\emman\\anaconda3\\lib\\site-packages (from ipykernel>=4.5.1->ipywidgets) (6.1)\nRequirement already satisfied: jupyter-client in c:\\users\\emman\\anaconda3\\lib\\site-packages (from ipykernel>=4.5.1->ipywidgets) (6.1.12)\nRequirement already satisfied: backcall in c:\\users\\emman\\anaconda3\\lib\\site-packages (from ipython>=4.0.0->ipywidgets) (0.2.0)\nRequirement already satisfied: setuptools>=18.5 in c:\\users\\emman\\anaconda3\\lib\\site-packages (from ipython>=4.0.0->ipywidgets) (52.0.0.post20210125)\nRequirement already satisfied: prompt-toolkit!=3.0.0,!=3.0.1,<3.1.0,>=2.0.0 in c:\\users\\emman\\anaconda3\\lib\\site-packages (from ipython>=4.0.0->ipywidgets) (3.0.17)\nRequirement already satisfied: colorama in c:\\users\\emman\\anaconda3\\lib\\site-packages (from ipython>=4.0.0->ipywidgets) (0.4.4)\nRequirement already satisfied: jedi>=0.16 in c:\\users\\emman\\anaconda3\\lib\\site-packages (from ipython>=4.0.0->ipywidgets) (0.18.0)\nRequirement already satisfied: decorator in c:\\users\\emman\\anaconda3\\lib\\site-packages (from ipython>=4.0.0->ipywidgets) (4.4.2)\nRequirement already satisfied: pygments in c:\\users\\emman\\anaconda3\\lib\\site-packages (from ipython>=4.0.0->ipywidgets) (2.8.1)\nRequirement already satisfied: pickleshare in c:\\users\\emman\\anaconda3\\lib\\site-packages (from ipython>=4.0.0->ipywidgets) (0.7.5)\nRequirement already satisfied: parso<0.9.0,>=0.8.0 in c:\\users\\emman\\anaconda3\\lib\\site-packages (from jedi>=0.16->ipython>=4.0.0->ipywidgets) (0.8.1)\nRequirement already satisfied: jsonschema!=2.5.0,>=2.4 in c:\\users\\emman\\anaconda3\\lib\\site-packages (from nbformat>=4.2.0->ipywidgets) (3.2.0)\nRequirement already satisfied: jupyter-core in c:\\users\\emman\\anaconda3\\lib\\site-packages (from nbformat>=4.2.0->ipywidgets) (4.7.1)\nRequirement already satisfied: ipython-genutils in c:\\users\\emman\\anaconda3\\lib\\site-packages (from nbformat>=4.2.0->ipywidgets) (0.2.0)\nRequirement already satisfied: attrs>=17.4.0 in c:\\users\\emman\\anaconda3\\lib\\site-packages (from jsonschema!=2.5.0,>=2.4->nbformat>=4.2.0->ipywidgets) (20.3.0)\nRequirement already satisfied: six>=1.11.0 in c:\\users\\emman\\anaconda3\\lib\\site-packages (from jsonschema!=2.5.0,>=2.4->nbformat>=4.2.0->ipywidgets) (1.15.0)\nRequirement already satisfied: pyrsistent>=0.14.0 in c:\\users\\emman\\anaconda3\\lib\\site-packages (from jsonschema!=2.5.0,>=2.4->nbformat>=4.2.0->ipywidgets) (0.17.3)\nRequirement already satisfied: wcwidth in c:\\users\\emman\\anaconda3\\lib\\site-packages (from prompt-toolkit!=3.0.0,!=3.0.1,<3.1.0,>=2.0.0->ipython>=4.0.0->ipywidgets) (0.2.5)\nRequirement already satisfied: notebook>=4.4.1 in c:\\users\\emman\\anaconda3\\lib\\site-packages (from widgetsnbextension~=3.5.0->ipywidgets) (6.2.0)\nRequirement already satisfied: jinja2 in c:\\users\\emman\\anaconda3\\lib\\site-packages (from notebook>=4.4.1->widgetsnbextension~=3.5.0->ipywidgets) (2.11.3)\nRequirement already satisfied: Send2Trash>=1.5.0 in c:\\users\\emman\\anaconda3\\lib\\site-packages (from notebook>=4.4.1->widgetsnbextension~=3.5.0->ipywidgets) (1.5.0)\nRequirement already satisfied: argon2-cffi in c:\\users\\emman\\anaconda3\\lib\\site-packages (from notebook>=4.4.1->widgetsnbextension~=3.5.0->ipywidgets) (20.1.0)\nRequirement already satisfied: prometheus-client in c:\\users\\emman\\anaconda3\\lib\\site-packages (from notebook>=4.4.1->widgetsnbextension~=3.5.0->ipywidgets) (0.9.0)\nRequirement already satisfied: pyzmq>=17 in c:\\users\\emman\\anaconda3\\lib\\site-packages (from notebook>=4.4.1->widgetsnbextension~=3.5.0->ipywidgets) (22.0.3)\nRequirement already satisfied: terminado>=0.8.3 in c:\\users\\emman\\anaconda3\\lib\\site-packages (from notebook>=4.4.1->widgetsnbextension~=3.5.0->ipywidgets) (0.9.3)\nRequirement already satisfied: nbconvert in c:\\users\\emman\\anaconda3\\lib\\site-packages (from notebook>=4.4.1->widgetsnbextension~=3.5.0->ipywidgets) (5.6.1)\nRequirement already satisfied: python-dateutil>=2.1 in c:\\users\\emman\\anaconda3\\lib\\site-packages (from jupyter-client->ipykernel>=4.5.1->ipywidgets) (2.8.1)\nRequirement already satisfied: pywin32>=1.0 in c:\\users\\emman\\anaconda3\\lib\\site-packages (from jupyter-core->nbformat>=4.2.0->ipywidgets) (227)\nRequirement already satisfied: pywinpty>=0.5 in c:\\users\\emman\\anaconda3\\lib\\site-packages (from terminado>=0.8.3->notebook>=4.4.1->widgetsnbextension~=3.5.0->ipywidgets) (0.5.7)\nRequirement already satisfied: cffi>=1.0.0 in c:\\users\\emman\\anaconda3\\lib\\site-packages (from argon2-cffi->notebook>=4.4.1->widgetsnbextension~=3.5.0->ipywidgets) (1.14.5)\nRequirement already satisfied: pycparser in c:\\users\\emman\\anaconda3\\lib\\site-packages (from cffi>=1.0.0->argon2-cffi->notebook>=4.4.1->widgetsnbextension~=3.5.0->ipywidgets) (2.20)\nRequirement already satisfied: MarkupSafe>=0.23 in c:\\users\\emman\\anaconda3\\lib\\site-packages (from jinja2->notebook>=4.4.1->widgetsnbextension~=3.5.0->ipywidgets) (1.1.1)\nRequirement already satisfied: bleach in c:\\users\\emman\\anaconda3\\lib\\site-packages (from nbconvert->notebook>=4.4.1->widgetsnbextension~=3.5.0->ipywidgets) (3.3.0)\nRequirement already satisfied: pandocfilters>=1.4.1 in c:\\users\\emman\\anaconda3\\lib\\site-packages (from nbconvert->notebook>=4.4.1->widgetsnbextension~=3.5.0->ipywidgets) (1.4.2)\nRequirement already satisfied: entrypoints>=0.2.2 in c:\\users\\emman\\anaconda3\\lib\\site-packages (from nbconvert->notebook>=4.4.1->widgetsnbextension~=3.5.0->ipywidgets) (0.3)\nRequirement already satisfied: mistune<2,>=0.8.1 in c:\\users\\emman\\anaconda3\\lib\\site-packages (from nbconvert->notebook>=4.4.1->widgetsnbextension~=3.5.0->ipywidgets) (0.8.4)\nRequirement already satisfied: defusedxml in c:\\users\\emman\\anaconda3\\lib\\site-packages (from nbconvert->notebook>=4.4.1->widgetsnbextension~=3.5.0->ipywidgets) (0.7.1)\nRequirement already satisfied: testpath in c:\\users\\emman\\anaconda3\\lib\\site-packages (from nbconvert->notebook>=4.4.1->widgetsnbextension~=3.5.0->ipywidgets) (0.4.4)\nRequirement already satisfied: webencodings in c:\\users\\emman\\anaconda3\\lib\\site-packages (from bleach->nbconvert->notebook>=4.4.1->widgetsnbextension~=3.5.0->ipywidgets) (0.5.1)\nRequirement already satisfied: packaging in c:\\users\\emman\\anaconda3\\lib\\site-packages (from bleach->nbconvert->notebook>=4.4.1->widgetsnbextension~=3.5.0->ipywidgets) (20.9)\nRequirement already satisfied: pyparsing>=2.0.2 in c:\\users\\emman\\anaconda3\\lib\\site-packages (from packaging->bleach->nbconvert->notebook>=4.4.1->widgetsnbextension~=3.5.0->ipywidgets) (2.4.7)\n"
     ]
    }
   ],
   "source": [
    "#nbi:hide_in\n",
    "\n",
    "!pip install ipywidgets"
   ]
  },
  {
   "cell_type": "code",
   "execution_count": 6,
   "metadata": {
    "colab": {
     "base_uri": "https://localhost:8080/"
    },
    "id": "t8-QNcY8MthP",
    "outputId": "6a3e351a-bbb3-4201-f65d-43059317128f"
   },
   "outputs": [
    {
     "output_type": "stream",
     "name": "stdout",
     "text": [
      "Requirement already satisfied: pandas in c:\\users\\emman\\anaconda3\\lib\\site-packages (1.2.3)\nRequirement already satisfied: numpy>=1.16.5 in c:\\users\\emman\\anaconda3\\lib\\site-packages (from pandas) (1.19.5)\nRequirement already satisfied: pytz>=2017.3 in c:\\users\\emman\\anaconda3\\lib\\site-packages (from pandas) (2021.1)\nRequirement already satisfied: python-dateutil>=2.7.3 in c:\\users\\emman\\anaconda3\\lib\\site-packages (from pandas) (2.8.1)\nRequirement already satisfied: six>=1.5 in c:\\users\\emman\\anaconda3\\lib\\site-packages (from python-dateutil>=2.7.3->pandas) (1.15.0)\n"
     ]
    }
   ],
   "source": [
    "#nbi:hide_in\n",
    "\n",
    "!pip install pandas"
   ]
  },
  {
   "cell_type": "code",
   "execution_count": 7,
   "metadata": {
    "colab": {
     "base_uri": "https://localhost:8080/"
    },
    "id": "SO4nQZ5dM0RY",
    "outputId": "433a9a7a-e5dd-4bba-f5a2-bbc0d9104b2b"
   },
   "outputs": [
    {
     "output_type": "stream",
     "name": "stdout",
     "text": [
      "Requirement already satisfied: pandas-datareader in c:\\users\\emman\\anaconda3\\lib\\site-packages (0.9.0)\nRequirement already satisfied: lxml in c:\\users\\emman\\anaconda3\\lib\\site-packages (from pandas-datareader) (4.6.2)\nRequirement already satisfied: pandas>=0.23 in c:\\users\\emman\\anaconda3\\lib\\site-packages (from pandas-datareader) (1.2.3)\nRequirement already satisfied: requests>=2.19.0 in c:\\users\\emman\\anaconda3\\lib\\site-packages (from pandas-datareader) (2.25.1)\nRequirement already satisfied: pytz>=2017.3 in c:\\users\\emman\\anaconda3\\lib\\site-packages (from pandas>=0.23->pandas-datareader) (2021.1)\nRequirement already satisfied: numpy>=1.16.5 in c:\\users\\emman\\anaconda3\\lib\\site-packages (from pandas>=0.23->pandas-datareader) (1.19.5)\nRequirement already satisfied: python-dateutil>=2.7.3 in c:\\users\\emman\\anaconda3\\lib\\site-packages (from pandas>=0.23->pandas-datareader) (2.8.1)\nRequirement already satisfied: six>=1.5 in c:\\users\\emman\\anaconda3\\lib\\site-packages (from python-dateutil>=2.7.3->pandas>=0.23->pandas-datareader) (1.15.0)\nRequirement already satisfied: certifi>=2017.4.17 in c:\\users\\emman\\anaconda3\\lib\\site-packages (from requests>=2.19.0->pandas-datareader) (2020.12.5)\nRequirement already satisfied: chardet<5,>=3.0.2 in c:\\users\\emman\\anaconda3\\lib\\site-packages (from requests>=2.19.0->pandas-datareader) (4.0.0)\nRequirement already satisfied: urllib3<1.27,>=1.21.1 in c:\\users\\emman\\anaconda3\\lib\\site-packages (from requests>=2.19.0->pandas-datareader) (1.26.4)\nRequirement already satisfied: idna<3,>=2.5 in c:\\users\\emman\\anaconda3\\lib\\site-packages (from requests>=2.19.0->pandas-datareader) (2.10)\n"
     ]
    }
   ],
   "source": [
    "#nbi:hide_in\n",
    "\n",
    "!pip install pandas-datareader"
   ]
  },
  {
   "cell_type": "code",
   "execution_count": 8,
   "metadata": {
    "colab": {
     "base_uri": "https://localhost:8080/"
    },
    "id": "ToEOyRoJM8hx",
    "outputId": "8c3f5187-f93f-4773-eefe-cde75a390452"
   },
   "outputs": [
    {
     "output_type": "stream",
     "name": "stdout",
     "text": [
      "Requirement already satisfied: numpy in c:\\users\\emman\\anaconda3\\lib\\site-packages (1.19.5)\n"
     ]
    }
   ],
   "source": [
    "#nbi:hide_in\n",
    "\n",
    "!pip install numpy"
   ]
  },
  {
   "cell_type": "code",
   "execution_count": 9,
   "metadata": {
    "colab": {
     "base_uri": "https://localhost:8080/"
    },
    "id": "EwZhKRZtM2H5",
    "outputId": "7e388f01-cd2f-453e-84f2-6392773aab0b"
   },
   "outputs": [
    {
     "output_type": "stream",
     "name": "stdout",
     "text": [
      "Requirement already satisfied: plotly in c:\\users\\emman\\anaconda3\\lib\\site-packages (4.14.3)\nRequirement already satisfied: retrying>=1.3.3 in c:\\users\\emman\\anaconda3\\lib\\site-packages (from plotly) (1.3.3)\nRequirement already satisfied: six in c:\\users\\emman\\anaconda3\\lib\\site-packages (from plotly) (1.15.0)\n"
     ]
    }
   ],
   "source": [
    "#nbi:hide_in\n",
    "\n",
    "!pip install plotly"
   ]
  },
  {
   "cell_type": "code",
   "execution_count": 10,
   "metadata": {
    "colab": {
     "base_uri": "https://localhost:8080/"
    },
    "id": "60RrMqfUM6Wx",
    "outputId": "ce0c8f0e-9255-4926-88d3-7ac83a8a4af1"
   },
   "outputs": [
    {
     "output_type": "stream",
     "name": "stdout",
     "text": [
      "Requirement already satisfied: datetime in c:\\users\\emman\\anaconda3\\lib\\site-packages (4.3)\n",
      "Requirement already satisfied: zope.interface in c:\\users\\emman\\anaconda3\\lib\\site-packages (from datetime) (5.2.0)\n",
      "Requirement already satisfied: pytz in c:\\users\\emman\\anaconda3\\lib\\site-packages (from datetime) (2021.1)\n",
      "Requirement already satisfied: setuptools in c:\\users\\emman\\anaconda3\\lib\\site-packages (from zope.interface->datetime) (52.0.0.post20210125)\n"
     ]
    }
   ],
   "source": [
    "#nbi:hide_in\n",
    "\n",
    "!pip install datetime"
   ]
  },
  {
   "cell_type": "markdown",
   "metadata": {
    "id": "z_AfFqY2OOEo"
   },
   "source": [
    "## **PART #2**"
   ]
  },
  {
   "cell_type": "markdown",
   "metadata": {
    "id": "B8euPVEuUEW-"
   },
   "source": [
    "## **Import ipywidgets to interact Jupyter Notebook over HTML**"
   ]
  },
  {
   "cell_type": "markdown",
   "metadata": {
    "id": "1UDSax8K8R61"
   },
   "source": [
    "### Key Feature is \"Yahoo! Finance\" to downloading histrocial market data. "
   ]
  },
  {
   "cell_type": "code",
   "execution_count": 1,
   "metadata": {
    "id": "F9OLTuDaT4NA"
   },
   "outputs": [],
   "source": [
    "#nbi:hide_in\n",
    "\n",
    "from ipywidgets import interact"
   ]
  },
  {
   "cell_type": "code",
   "execution_count": 2,
   "metadata": {
    "id": "fJTNmB3WNAQ5"
   },
   "outputs": [],
   "source": [
    "#nbi:hide_in\n",
    "\n",
    "import pandas as pd \n",
    "from pandas_datareader import data \n",
    "import plotly.graph_objects as go \n",
    "import plotly.express as px # Plotly Dark Templates\n",
    "import yfinance as yf # Key Import\n",
    "from datetime import date \n",
    "from dateutil.relativedelta import relativedelta \n",
    "import numpy as np \n",
    "from sklearn.linear_model import LinearRegression # Machine Leraning (Linear Model)\n",
    "from sklearn.model_selection import train_test_split # Machine Leraning (Train and Tool Model)"
   ]
  },
  {
   "cell_type": "markdown",
   "metadata": {
    "id": "RBPxvrUjU2SH"
   },
   "source": [
    "Below the Bash Colors in Python from **python_bash_font** GitHub"
   ]
  },
  {
   "cell_type": "code",
   "execution_count": 3,
   "metadata": {
    "id": "nOAXAE61NC5Y"
   },
   "outputs": [],
   "source": [
    "#nbi:hide_in\n",
    "\n",
    "class color:\n",
    "   RED = '\\033[91m'\n",
    "   BOLD = '\\033[1m'\n",
    "   UNDERLINE = '\\033[4m'\n",
    "   PURPLE = '\\033[95m'\n",
    "   GREEN = '\\033[92m'\n",
    "   YELLOW = '\\033[93m'\n",
    "   CYAN = '\\033[96m'\n",
    "   DARKCYAN = '\\033[36m'\n",
    "   BLUE = '\\033[94m'\n",
    "   END = '\\033[0m'"
   ]
  },
  {
   "cell_type": "markdown",
   "metadata": {
    "id": "n7HCA1uYOVzp"
   },
   "source": [
    "# **PART #3**"
   ]
  },
  {
   "cell_type": "markdown",
   "metadata": {
    "id": "rmLQIAW5SKBg"
   },
   "source": [
    "# **INTERACT TEST CODE:**"
   ]
  },
  {
   "source": [
    "### Using Interact\n",
    "The ipywidgets library provides the simplest way to get started writing interactive documents. Although the library itself has its own documentation, we will provide a quick overview to let you get started as quickly as possible."
   ],
   "cell_type": "markdown",
   "metadata": {}
  },
  {
   "cell_type": "code",
   "execution_count": 4,
   "metadata": {},
   "outputs": [],
   "source": [
    "#nbi:hide_in\n",
    "\n",
    "#Testing Interact from ipywidgets\n",
    "def square(x):\n",
    "    return x * x"
   ]
  },
  {
   "cell_type": "code",
   "execution_count": 5,
   "metadata": {},
   "outputs": [
    {
     "output_type": "display_data",
     "data": {
      "text/plain": "interactive(children=(IntSlider(value=10, description='x', max=30, min=-10), Output()), _dom_classes=('widget-…",
      "application/vnd.jupyter.widget-view+json": {
       "version_major": 2,
       "version_minor": 0,
       "model_id": "e1cd67e10f91483a902de45261f6b1aa"
      }
     },
     "metadata": {}
    }
   ],
   "source": [
    "interact(square, x=10);"
   ]
  },
  {
   "cell_type": "code",
   "execution_count": 6,
   "metadata": {},
   "outputs": [
    {
     "output_type": "display_data",
     "data": {
      "text/plain": "interactive(children=(IntSlider(value=50, description='x', step=10), Output()), _dom_classes=('widget-interact…",
      "application/vnd.jupyter.widget-view+json": {
       "version_major": 2,
       "version_minor": 0,
       "model_id": "83d30fe7fa0e4de6911608c93340d813"
      }
     },
     "metadata": {}
    }
   ],
   "source": [
    "#nbi:hide_in\n",
    "\n",
    "interact(square, x=(0, 100, 10));"
   ]
  },
  {
   "cell_type": "code",
   "execution_count": 7,
   "metadata": {},
   "outputs": [],
   "source": [
    "#nbi:hide_in\n",
    "\n",
    "def friends(name, number):\n",
    "    return '{} has {} friends!'.format(name, number)"
   ]
  },
  {
   "cell_type": "code",
   "execution_count": 8,
   "metadata": {},
   "outputs": [
    {
     "output_type": "display_data",
     "data": {
      "text/plain": "interactive(children=(Text(value='Sam', description='name'), IntSlider(value=7, description='number', max=10, …",
      "application/vnd.jupyter.widget-view+json": {
       "version_major": 2,
       "version_minor": 0,
       "model_id": "7e5eb654b1234d5487bde5ebcfa20bff"
      }
     },
     "metadata": {}
    }
   ],
   "source": [
    "#nbi:hide_in\n",
    "\n",
    "interact(friends, name='Sam', number=(5, 10));"
   ]
  },
  {
   "cell_type": "code",
   "execution_count": 9,
   "metadata": {},
   "outputs": [
    {
     "output_type": "display_data",
     "data": {
      "text/plain": "interactive(children=(Text(value='Sam', description='name'), Dropdown(description='number', options={'One': 1,…",
      "application/vnd.jupyter.widget-view+json": {
       "version_major": 2,
       "version_minor": 0,
       "model_id": "d1ed885459ad45cd82d5a6e59690b90b"
      }
     },
     "metadata": {}
    }
   ],
   "source": [
    "#nbi:hide_in\n",
    "\n",
    "interact(friends, name='Sam', number={'One': 1, 'Five': 5, 'Ten': 10});"
   ]
  },
  {
   "cell_type": "code",
   "execution_count": 21,
   "metadata": {},
   "outputs": [],
   "source": [
    "## Now we can move on to CORE CODE!"
   ]
  },
  {
   "source": [
    "# **CORE CODE:**"
   ],
   "cell_type": "markdown",
   "metadata": {}
  },
  {
   "cell_type": "markdown",
   "metadata": {
    "id": "D_RpvKyLSNLb"
   },
   "source": [
    "As Machine Learning, our SVR (SVM) Model predicts from Yahoo Finance Librery Stock Historcal source. "
   ]
  },
  {
   "cell_type": "markdown",
   "metadata": {
    "id": "VriSJ9jSSctG"
   },
   "source": [
    "From Pandas, \"pandas_datareader\" we're using \"data\" library, It's important because help during the process imported every time the END USER Ineraction. "
   ]
  },
  {
   "cell_type": "code",
   "execution_count": 13,
   "metadata": {
    "colab": {
     "base_uri": "https://localhost:8080/",
     "height": 1000
    },
    "id": "cLPCLaOwNE34",
    "outputId": "77c7849b-34fb-4ff1-d7ee-3a32194bd37f"
   },
   "outputs": [
    {
     "name": "stdout",
     "output_type": "stream",
     "text": [
      "\u001b[1m\u001b[4m\u001b[36m\n",
      "> Please select from below an option to Analyzing your Stock Ticker Data:\u001b[0m\n",
      "\n",
      " SELECT FROM THE BELOW YOUR ANALYSIS OPTION: \n",
      "\n",
      "    1 - Machine Learning 15 days Prediction (SVR Model) from Your Stock \"BAC\" Tricker.\n",
      "    2 - Machine Learning 30 days Prediction (SVR Model) from Your Stock \"BAC\" Tricker.\n",
      "    3 - Price Date Range Chart (YYY-MM-DD) from your Stock \"BAC\" Tricker.\n",
      "    4 - Price Comparison from your Stock \"BAC\" Tricker with another Tricker.\n",
      "    5 - Your Stock \"BAC\" Tricker 180 Past-Days Analysis.\n",
      "\n",
      "    Q - Quit and Restart the Process using different Symbol or Stock Tricker.\n",
      "    \n"
     ]
    },
    {
     "data": {
      "application/vnd.plotly.v1+json": {
       "config": {
        "plotlyServerURL": "https://plot.ly"
       },
       "data": [
        {
         "line": {
          "color": "dodgerblue"
         },
         "name": "BAC stock",
         "opacity": 0.9,
         "type": "scatter",
         "x": [
          "2020-09-23T00:00:00",
          "2020-09-24T00:00:00",
          "2020-09-25T00:00:00",
          "2020-09-28T00:00:00",
          "2020-09-29T00:00:00",
          "2020-09-30T00:00:00",
          "2020-10-01T00:00:00",
          "2020-10-02T00:00:00",
          "2020-10-05T00:00:00",
          "2020-10-06T00:00:00",
          "2020-10-07T00:00:00",
          "2020-10-08T00:00:00",
          "2020-10-09T00:00:00",
          "2020-10-12T00:00:00",
          "2020-10-13T00:00:00",
          "2020-10-14T00:00:00",
          "2020-10-15T00:00:00",
          "2020-10-16T00:00:00",
          "2020-10-19T00:00:00",
          "2020-10-20T00:00:00",
          "2020-10-21T00:00:00",
          "2020-10-22T00:00:00",
          "2020-10-23T00:00:00",
          "2020-10-26T00:00:00",
          "2020-10-27T00:00:00",
          "2020-10-28T00:00:00",
          "2020-10-29T00:00:00",
          "2020-10-30T00:00:00",
          "2020-11-02T00:00:00",
          "2020-11-03T00:00:00",
          "2020-11-04T00:00:00",
          "2020-11-05T00:00:00",
          "2020-11-06T00:00:00",
          "2020-11-09T00:00:00",
          "2020-11-10T00:00:00",
          "2020-11-11T00:00:00",
          "2020-11-12T00:00:00",
          "2020-11-13T00:00:00",
          "2020-11-16T00:00:00",
          "2020-11-17T00:00:00",
          "2020-11-18T00:00:00",
          "2020-11-19T00:00:00",
          "2020-11-20T00:00:00",
          "2020-11-23T00:00:00",
          "2020-11-24T00:00:00",
          "2020-11-25T00:00:00",
          "2020-11-27T00:00:00",
          "2020-11-30T00:00:00",
          "2020-12-01T00:00:00",
          "2020-12-02T00:00:00",
          "2020-12-03T00:00:00",
          "2020-12-04T00:00:00",
          "2020-12-07T00:00:00",
          "2020-12-08T00:00:00",
          "2020-12-09T00:00:00",
          "2020-12-10T00:00:00",
          "2020-12-11T00:00:00",
          "2020-12-14T00:00:00",
          "2020-12-15T00:00:00",
          "2020-12-16T00:00:00",
          "2020-12-17T00:00:00",
          "2020-12-18T00:00:00",
          "2020-12-21T00:00:00",
          "2020-12-22T00:00:00",
          "2020-12-23T00:00:00",
          "2020-12-24T00:00:00",
          "2020-12-28T00:00:00",
          "2020-12-29T00:00:00",
          "2020-12-30T00:00:00",
          "2020-12-31T00:00:00",
          "2021-01-04T00:00:00",
          "2021-01-05T00:00:00",
          "2021-01-06T00:00:00",
          "2021-01-07T00:00:00",
          "2021-01-08T00:00:00",
          "2021-01-11T00:00:00",
          "2021-01-12T00:00:00",
          "2021-01-13T00:00:00",
          "2021-01-14T00:00:00",
          "2021-01-15T00:00:00",
          "2021-01-19T00:00:00",
          "2021-01-20T00:00:00",
          "2021-01-21T00:00:00",
          "2021-01-22T00:00:00",
          "2021-01-25T00:00:00",
          "2021-01-26T00:00:00",
          "2021-01-27T00:00:00",
          "2021-01-28T00:00:00",
          "2021-01-29T00:00:00",
          "2021-02-01T00:00:00",
          "2021-02-02T00:00:00",
          "2021-02-03T00:00:00",
          "2021-02-04T00:00:00",
          "2021-02-05T00:00:00",
          "2021-02-08T00:00:00",
          "2021-02-09T00:00:00",
          "2021-02-10T00:00:00",
          "2021-02-11T00:00:00",
          "2021-02-12T00:00:00",
          "2021-02-16T00:00:00",
          "2021-02-17T00:00:00",
          "2021-02-18T00:00:00",
          "2021-02-19T00:00:00",
          "2021-02-22T00:00:00",
          "2021-02-23T00:00:00",
          "2021-02-24T00:00:00",
          "2021-02-25T00:00:00",
          "2021-02-26T00:00:00",
          "2021-03-01T00:00:00",
          "2021-03-02T00:00:00",
          "2021-03-03T00:00:00",
          "2021-03-04T00:00:00",
          "2021-03-05T00:00:00",
          "2021-03-08T00:00:00",
          "2021-03-09T00:00:00",
          "2021-03-10T00:00:00",
          "2021-03-11T00:00:00",
          "2021-03-12T00:00:00",
          "2021-03-15T00:00:00",
          "2021-03-16T00:00:00",
          "2021-03-17T00:00:00",
          "2021-03-18T00:00:00",
          "2021-03-19T00:00:00",
          "2021-03-22T00:00:00",
          "2021-03-23T00:00:00"
         ],
         "y": [
          23.001680374145508,
          23.080791473388672,
          23.229124069213867,
          23.822460174560547,
          23.50601577758789,
          23.822460174560547,
          23.83234977722168,
          23.94112777709961,
          24.346574783325195,
          24.09935188293457,
          24.603687286376953,
          24.95969009399414,
          25.078357696533203,
          25.394804000854492,
          24.67291259765625,
          23.357683181762695,
          23.88179588317871,
          23.970794677734375,
          23.45656967163086,
          23.871904373168945,
          23.78290367126465,
          24.593799591064453,
          24.623464584350586,
          24.26746368408203,
          23.585126876831055,
          23.209346771240234,
          23.27857208251953,
          23.43679428100586,
          23.812572479248047,
          24.41579818725586,
          23.417015075683594,
          24.336687088012695,
          24.04001808166504,
          27.451702117919922,
          27.352813720703125,
          27.036367416381836,
          26.393587112426758,
          26.70014190673828,
          27.27370262145996,
          27.244033813476562,
          26.68036460876465,
          26.68036460876465,
          26.512252807617188,
          27.085811614990234,
          28.658153533935547,
          28.707599639892578,
          28.66804313659668,
          27.847259521484375,
          28.371374130249023,
          28.737266540527344,
          28.76711654663086,
          29.145238876342773,
          28.946226119995117,
          28.787017822265625,
          28.65765953063965,
          28.966129302978516,
          28.428796768188477,
          28.08052635192871,
          28.498449325561523,
          28.578054428100586,
          28.687511444091797,
          28.528303146362305,
          29.593013763427734,
          29.06563377380371,
          29.90148162841797,
          29.811925888061523,
          29.98108673095703,
          29.86168098449707,
          29.83182716369629,
          30.16019630432129,
          29.881582260131836,
          30.110445022583008,
          31.991104125976562,
          32.697593688964844,
          32.369224548339844,
          32.90655517578125,
          33.4936408996582,
          33.29462814331055,
          33.8220100402832,
          32.84685134887695,
          32.60803985595703,
          32.1801643371582,
          31.61298179626465,
          31.394067764282227,
          31.005996704101562,
          30.787084579467773,
          29.68256950378418,
          30.170146942138672,
          29.50345802307129,
          29.811925888061523,
          30.876638412475586,
          31.423919677734375,
          32.33937454223633,
          32.21001434326172,
          32.926456451416016,
          32.78715133666992,
          32.81700134277344,
          32.71749496459961,
          33.205074310302734,
          34.100624084472656,
          34.239933013916016,
          34.021018981933594,
          34.369293212890625,
          34.97627639770508,
          35.34444808959961,
          36.200199127197266,
          35.75242233276367,
          34.538448333740234,
          35.61311340332031,
          35.35439682006836,
          36.23999786376953,
          36.5,
          36.93000030517578,
          37.130001068115234,
          36.31999969482422,
          37.369998931884766,
          37.2400016784668,
          37.939998626708984,
          37.75,
          37.63999938964844,
          37.95000076293945,
          38.939998626708984,
          38.529998779296875,
          37.65999984741211,
          36.900001525878906
         ]
        },
        {
         "line": {
          "color": "green",
          "dash": "dot"
         },
         "name": "ML Prediction",
         "opacity": 0.9,
         "type": "scatter",
         "x": [
          "2021-03-24T00:00:00",
          "2021-03-25T00:00:00",
          "2021-03-26T00:00:00",
          "2021-03-27T00:00:00",
          "2021-03-28T00:00:00",
          "2021-03-29T00:00:00",
          "2021-03-30T00:00:00"
         ],
         "y": [
          37.68261190860687,
          37.573323719124076,
          37.88131736312185,
          38.8649034884844,
          38.457559012224806,
          37.593194643574705,
          36.82818110718644
         ]
        }
       ],
       "layout": {
        "template": {
         "data": {
          "bar": [
           {
            "error_x": {
             "color": "#f2f5fa"
            },
            "error_y": {
             "color": "#f2f5fa"
            },
            "marker": {
             "line": {
              "color": "rgb(17,17,17)",
              "width": 0.5
             }
            },
            "type": "bar"
           }
          ],
          "barpolar": [
           {
            "marker": {
             "line": {
              "color": "rgb(17,17,17)",
              "width": 0.5
             }
            },
            "type": "barpolar"
           }
          ],
          "carpet": [
           {
            "aaxis": {
             "endlinecolor": "#A2B1C6",
             "gridcolor": "#506784",
             "linecolor": "#506784",
             "minorgridcolor": "#506784",
             "startlinecolor": "#A2B1C6"
            },
            "baxis": {
             "endlinecolor": "#A2B1C6",
             "gridcolor": "#506784",
             "linecolor": "#506784",
             "minorgridcolor": "#506784",
             "startlinecolor": "#A2B1C6"
            },
            "type": "carpet"
           }
          ],
          "choropleth": [
           {
            "colorbar": {
             "outlinewidth": 0,
             "ticks": ""
            },
            "type": "choropleth"
           }
          ],
          "contour": [
           {
            "colorbar": {
             "outlinewidth": 0,
             "ticks": ""
            },
            "colorscale": [
             [
              0,
              "#0d0887"
             ],
             [
              0.1111111111111111,
              "#46039f"
             ],
             [
              0.2222222222222222,
              "#7201a8"
             ],
             [
              0.3333333333333333,
              "#9c179e"
             ],
             [
              0.4444444444444444,
              "#bd3786"
             ],
             [
              0.5555555555555556,
              "#d8576b"
             ],
             [
              0.6666666666666666,
              "#ed7953"
             ],
             [
              0.7777777777777778,
              "#fb9f3a"
             ],
             [
              0.8888888888888888,
              "#fdca26"
             ],
             [
              1,
              "#f0f921"
             ]
            ],
            "type": "contour"
           }
          ],
          "contourcarpet": [
           {
            "colorbar": {
             "outlinewidth": 0,
             "ticks": ""
            },
            "type": "contourcarpet"
           }
          ],
          "heatmap": [
           {
            "colorbar": {
             "outlinewidth": 0,
             "ticks": ""
            },
            "colorscale": [
             [
              0,
              "#0d0887"
             ],
             [
              0.1111111111111111,
              "#46039f"
             ],
             [
              0.2222222222222222,
              "#7201a8"
             ],
             [
              0.3333333333333333,
              "#9c179e"
             ],
             [
              0.4444444444444444,
              "#bd3786"
             ],
             [
              0.5555555555555556,
              "#d8576b"
             ],
             [
              0.6666666666666666,
              "#ed7953"
             ],
             [
              0.7777777777777778,
              "#fb9f3a"
             ],
             [
              0.8888888888888888,
              "#fdca26"
             ],
             [
              1,
              "#f0f921"
             ]
            ],
            "type": "heatmap"
           }
          ],
          "heatmapgl": [
           {
            "colorbar": {
             "outlinewidth": 0,
             "ticks": ""
            },
            "colorscale": [
             [
              0,
              "#0d0887"
             ],
             [
              0.1111111111111111,
              "#46039f"
             ],
             [
              0.2222222222222222,
              "#7201a8"
             ],
             [
              0.3333333333333333,
              "#9c179e"
             ],
             [
              0.4444444444444444,
              "#bd3786"
             ],
             [
              0.5555555555555556,
              "#d8576b"
             ],
             [
              0.6666666666666666,
              "#ed7953"
             ],
             [
              0.7777777777777778,
              "#fb9f3a"
             ],
             [
              0.8888888888888888,
              "#fdca26"
             ],
             [
              1,
              "#f0f921"
             ]
            ],
            "type": "heatmapgl"
           }
          ],
          "histogram": [
           {
            "marker": {
             "colorbar": {
              "outlinewidth": 0,
              "ticks": ""
             }
            },
            "type": "histogram"
           }
          ],
          "histogram2d": [
           {
            "colorbar": {
             "outlinewidth": 0,
             "ticks": ""
            },
            "colorscale": [
             [
              0,
              "#0d0887"
             ],
             [
              0.1111111111111111,
              "#46039f"
             ],
             [
              0.2222222222222222,
              "#7201a8"
             ],
             [
              0.3333333333333333,
              "#9c179e"
             ],
             [
              0.4444444444444444,
              "#bd3786"
             ],
             [
              0.5555555555555556,
              "#d8576b"
             ],
             [
              0.6666666666666666,
              "#ed7953"
             ],
             [
              0.7777777777777778,
              "#fb9f3a"
             ],
             [
              0.8888888888888888,
              "#fdca26"
             ],
             [
              1,
              "#f0f921"
             ]
            ],
            "type": "histogram2d"
           }
          ],
          "histogram2dcontour": [
           {
            "colorbar": {
             "outlinewidth": 0,
             "ticks": ""
            },
            "colorscale": [
             [
              0,
              "#0d0887"
             ],
             [
              0.1111111111111111,
              "#46039f"
             ],
             [
              0.2222222222222222,
              "#7201a8"
             ],
             [
              0.3333333333333333,
              "#9c179e"
             ],
             [
              0.4444444444444444,
              "#bd3786"
             ],
             [
              0.5555555555555556,
              "#d8576b"
             ],
             [
              0.6666666666666666,
              "#ed7953"
             ],
             [
              0.7777777777777778,
              "#fb9f3a"
             ],
             [
              0.8888888888888888,
              "#fdca26"
             ],
             [
              1,
              "#f0f921"
             ]
            ],
            "type": "histogram2dcontour"
           }
          ],
          "mesh3d": [
           {
            "colorbar": {
             "outlinewidth": 0,
             "ticks": ""
            },
            "type": "mesh3d"
           }
          ],
          "parcoords": [
           {
            "line": {
             "colorbar": {
              "outlinewidth": 0,
              "ticks": ""
             }
            },
            "type": "parcoords"
           }
          ],
          "pie": [
           {
            "automargin": true,
            "type": "pie"
           }
          ],
          "scatter": [
           {
            "marker": {
             "line": {
              "color": "#283442"
             }
            },
            "type": "scatter"
           }
          ],
          "scatter3d": [
           {
            "line": {
             "colorbar": {
              "outlinewidth": 0,
              "ticks": ""
             }
            },
            "marker": {
             "colorbar": {
              "outlinewidth": 0,
              "ticks": ""
             }
            },
            "type": "scatter3d"
           }
          ],
          "scattercarpet": [
           {
            "marker": {
             "colorbar": {
              "outlinewidth": 0,
              "ticks": ""
             }
            },
            "type": "scattercarpet"
           }
          ],
          "scattergeo": [
           {
            "marker": {
             "colorbar": {
              "outlinewidth": 0,
              "ticks": ""
             }
            },
            "type": "scattergeo"
           }
          ],
          "scattergl": [
           {
            "marker": {
             "line": {
              "color": "#283442"
             }
            },
            "type": "scattergl"
           }
          ],
          "scattermapbox": [
           {
            "marker": {
             "colorbar": {
              "outlinewidth": 0,
              "ticks": ""
             }
            },
            "type": "scattermapbox"
           }
          ],
          "scatterpolar": [
           {
            "marker": {
             "colorbar": {
              "outlinewidth": 0,
              "ticks": ""
             }
            },
            "type": "scatterpolar"
           }
          ],
          "scatterpolargl": [
           {
            "marker": {
             "colorbar": {
              "outlinewidth": 0,
              "ticks": ""
             }
            },
            "type": "scatterpolargl"
           }
          ],
          "scatterternary": [
           {
            "marker": {
             "colorbar": {
              "outlinewidth": 0,
              "ticks": ""
             }
            },
            "type": "scatterternary"
           }
          ],
          "surface": [
           {
            "colorbar": {
             "outlinewidth": 0,
             "ticks": ""
            },
            "colorscale": [
             [
              0,
              "#0d0887"
             ],
             [
              0.1111111111111111,
              "#46039f"
             ],
             [
              0.2222222222222222,
              "#7201a8"
             ],
             [
              0.3333333333333333,
              "#9c179e"
             ],
             [
              0.4444444444444444,
              "#bd3786"
             ],
             [
              0.5555555555555556,
              "#d8576b"
             ],
             [
              0.6666666666666666,
              "#ed7953"
             ],
             [
              0.7777777777777778,
              "#fb9f3a"
             ],
             [
              0.8888888888888888,
              "#fdca26"
             ],
             [
              1,
              "#f0f921"
             ]
            ],
            "type": "surface"
           }
          ],
          "table": [
           {
            "cells": {
             "fill": {
              "color": "#506784"
             },
             "line": {
              "color": "rgb(17,17,17)"
             }
            },
            "header": {
             "fill": {
              "color": "#2a3f5f"
             },
             "line": {
              "color": "rgb(17,17,17)"
             }
            },
            "type": "table"
           }
          ]
         },
         "layout": {
          "annotationdefaults": {
           "arrowcolor": "#f2f5fa",
           "arrowhead": 0,
           "arrowwidth": 1
          },
          "autotypenumbers": "strict",
          "coloraxis": {
           "colorbar": {
            "outlinewidth": 0,
            "ticks": ""
           }
          },
          "colorscale": {
           "diverging": [
            [
             0,
             "#8e0152"
            ],
            [
             0.1,
             "#c51b7d"
            ],
            [
             0.2,
             "#de77ae"
            ],
            [
             0.3,
             "#f1b6da"
            ],
            [
             0.4,
             "#fde0ef"
            ],
            [
             0.5,
             "#f7f7f7"
            ],
            [
             0.6,
             "#e6f5d0"
            ],
            [
             0.7,
             "#b8e186"
            ],
            [
             0.8,
             "#7fbc41"
            ],
            [
             0.9,
             "#4d9221"
            ],
            [
             1,
             "#276419"
            ]
           ],
           "sequential": [
            [
             0,
             "#0d0887"
            ],
            [
             0.1111111111111111,
             "#46039f"
            ],
            [
             0.2222222222222222,
             "#7201a8"
            ],
            [
             0.3333333333333333,
             "#9c179e"
            ],
            [
             0.4444444444444444,
             "#bd3786"
            ],
            [
             0.5555555555555556,
             "#d8576b"
            ],
            [
             0.6666666666666666,
             "#ed7953"
            ],
            [
             0.7777777777777778,
             "#fb9f3a"
            ],
            [
             0.8888888888888888,
             "#fdca26"
            ],
            [
             1,
             "#f0f921"
            ]
           ],
           "sequentialminus": [
            [
             0,
             "#0d0887"
            ],
            [
             0.1111111111111111,
             "#46039f"
            ],
            [
             0.2222222222222222,
             "#7201a8"
            ],
            [
             0.3333333333333333,
             "#9c179e"
            ],
            [
             0.4444444444444444,
             "#bd3786"
            ],
            [
             0.5555555555555556,
             "#d8576b"
            ],
            [
             0.6666666666666666,
             "#ed7953"
            ],
            [
             0.7777777777777778,
             "#fb9f3a"
            ],
            [
             0.8888888888888888,
             "#fdca26"
            ],
            [
             1,
             "#f0f921"
            ]
           ]
          },
          "colorway": [
           "#636efa",
           "#EF553B",
           "#00cc96",
           "#ab63fa",
           "#FFA15A",
           "#19d3f3",
           "#FF6692",
           "#B6E880",
           "#FF97FF",
           "#FECB52"
          ],
          "font": {
           "color": "#f2f5fa"
          },
          "geo": {
           "bgcolor": "rgb(17,17,17)",
           "lakecolor": "rgb(17,17,17)",
           "landcolor": "rgb(17,17,17)",
           "showlakes": true,
           "showland": true,
           "subunitcolor": "#506784"
          },
          "hoverlabel": {
           "align": "left"
          },
          "hovermode": "closest",
          "mapbox": {
           "style": "dark"
          },
          "paper_bgcolor": "rgb(17,17,17)",
          "plot_bgcolor": "rgb(17,17,17)",
          "polar": {
           "angularaxis": {
            "gridcolor": "#506784",
            "linecolor": "#506784",
            "ticks": ""
           },
           "bgcolor": "rgb(17,17,17)",
           "radialaxis": {
            "gridcolor": "#506784",
            "linecolor": "#506784",
            "ticks": ""
           }
          },
          "scene": {
           "xaxis": {
            "backgroundcolor": "rgb(17,17,17)",
            "gridcolor": "#506784",
            "gridwidth": 2,
            "linecolor": "#506784",
            "showbackground": true,
            "ticks": "",
            "zerolinecolor": "#C8D4E3"
           },
           "yaxis": {
            "backgroundcolor": "rgb(17,17,17)",
            "gridcolor": "#506784",
            "gridwidth": 2,
            "linecolor": "#506784",
            "showbackground": true,
            "ticks": "",
            "zerolinecolor": "#C8D4E3"
           },
           "zaxis": {
            "backgroundcolor": "rgb(17,17,17)",
            "gridcolor": "#506784",
            "gridwidth": 2,
            "linecolor": "#506784",
            "showbackground": true,
            "ticks": "",
            "zerolinecolor": "#C8D4E3"
           }
          },
          "shapedefaults": {
           "line": {
            "color": "#f2f5fa"
           }
          },
          "sliderdefaults": {
           "bgcolor": "#C8D4E3",
           "bordercolor": "rgb(17,17,17)",
           "borderwidth": 1,
           "tickwidth": 0
          },
          "ternary": {
           "aaxis": {
            "gridcolor": "#506784",
            "linecolor": "#506784",
            "ticks": ""
           },
           "baxis": {
            "gridcolor": "#506784",
            "linecolor": "#506784",
            "ticks": ""
           },
           "bgcolor": "rgb(17,17,17)",
           "caxis": {
            "gridcolor": "#506784",
            "linecolor": "#506784",
            "ticks": ""
           }
          },
          "title": {
           "x": 0.05
          },
          "updatemenudefaults": {
           "bgcolor": "#506784",
           "borderwidth": 0
          },
          "xaxis": {
           "automargin": true,
           "gridcolor": "#283442",
           "linecolor": "#506784",
           "ticks": "",
           "title": {
            "standoff": 15
           },
           "zerolinecolor": "#283442",
           "zerolinewidth": 2
          },
          "yaxis": {
           "automargin": true,
           "gridcolor": "#283442",
           "linecolor": "#506784",
           "ticks": "",
           "title": {
            "standoff": 15
           },
           "zerolinecolor": "#283442",
           "zerolinewidth": 2
          }
         }
        },
        "title": {
         "text": "Historical BAC Quote Stock Value - With 15 Days Prediction"
        },
        "xaxis": {
         "tickfont": {
          "size": 14
         }
        },
        "yaxis": {
         "tickfont": {
          "size": 14
         },
         "title": {
          "text": "Closing Day Price Value in USD"
         }
        }
       }
      }
     },
     "metadata": {},
     "output_type": "display_data"
    },
    {
     "name": "stdout",
     "output_type": "stream",
     "text": [
      "\n",
      " SELECT FROM THE BELOW YOUR ANALYSIS OPTION: \n",
      "\n",
      "    1 - Machine Learning 15 days Prediction (SVR Model) from Your Stock \"BAC\" Tricker.\n",
      "    2 - Machine Learning 30 days Prediction (SVR Model) from Your Stock \"BAC\" Tricker.\n",
      "    3 - Price Date Range Chart (YYY-MM-DD) from your Stock \"BAC\" Tricker.\n",
      "    4 - Price Comparison from your Stock \"BAC\" Tricker with another Tricker.\n",
      "    5 - Your Stock \"BAC\" Tricker 180 Past-Days Analysis.\n",
      "\n",
      "    Q - Quit and Restart the Process using different Symbol or Stock Tricker.\n",
      "    \n"
     ]
    },
    {
     "data": {
      "application/vnd.plotly.v1+json": {
       "config": {
        "plotlyServerURL": "https://plot.ly"
       },
       "data": [
        {
         "line": {
          "color": "dodgerblue"
         },
         "name": "BAC stock",
         "opacity": 0.9,
         "type": "scatter",
         "x": [
          "2020-11-23T00:00:00",
          "2020-11-24T00:00:00",
          "2020-11-25T00:00:00",
          "2020-11-27T00:00:00",
          "2020-11-30T00:00:00",
          "2020-12-01T00:00:00",
          "2020-12-02T00:00:00",
          "2020-12-03T00:00:00",
          "2020-12-04T00:00:00",
          "2020-12-07T00:00:00",
          "2020-12-08T00:00:00",
          "2020-12-09T00:00:00",
          "2020-12-10T00:00:00",
          "2020-12-11T00:00:00",
          "2020-12-14T00:00:00",
          "2020-12-15T00:00:00",
          "2020-12-16T00:00:00",
          "2020-12-17T00:00:00",
          "2020-12-18T00:00:00",
          "2020-12-21T00:00:00",
          "2020-12-22T00:00:00",
          "2020-12-23T00:00:00",
          "2020-12-24T00:00:00",
          "2020-12-28T00:00:00",
          "2020-12-29T00:00:00",
          "2020-12-30T00:00:00",
          "2020-12-31T00:00:00",
          "2021-01-04T00:00:00",
          "2021-01-05T00:00:00",
          "2021-01-06T00:00:00",
          "2021-01-07T00:00:00",
          "2021-01-08T00:00:00",
          "2021-01-11T00:00:00",
          "2021-01-12T00:00:00",
          "2021-01-13T00:00:00",
          "2021-01-14T00:00:00",
          "2021-01-15T00:00:00",
          "2021-01-19T00:00:00",
          "2021-01-20T00:00:00",
          "2021-01-21T00:00:00",
          "2021-01-22T00:00:00",
          "2021-01-25T00:00:00",
          "2021-01-26T00:00:00",
          "2021-01-27T00:00:00",
          "2021-01-28T00:00:00",
          "2021-01-29T00:00:00",
          "2021-02-01T00:00:00",
          "2021-02-02T00:00:00",
          "2021-02-03T00:00:00",
          "2021-02-04T00:00:00",
          "2021-02-05T00:00:00",
          "2021-02-08T00:00:00",
          "2021-02-09T00:00:00",
          "2021-02-10T00:00:00",
          "2021-02-11T00:00:00",
          "2021-02-12T00:00:00",
          "2021-02-16T00:00:00",
          "2021-02-17T00:00:00",
          "2021-02-18T00:00:00",
          "2021-02-19T00:00:00",
          "2021-02-22T00:00:00",
          "2021-02-23T00:00:00",
          "2021-02-24T00:00:00",
          "2021-02-25T00:00:00",
          "2021-02-26T00:00:00",
          "2021-03-01T00:00:00",
          "2021-03-02T00:00:00",
          "2021-03-03T00:00:00",
          "2021-03-04T00:00:00",
          "2021-03-05T00:00:00",
          "2021-03-08T00:00:00",
          "2021-03-09T00:00:00",
          "2021-03-10T00:00:00",
          "2021-03-11T00:00:00",
          "2021-03-12T00:00:00",
          "2021-03-15T00:00:00",
          "2021-03-16T00:00:00",
          "2021-03-17T00:00:00",
          "2021-03-18T00:00:00",
          "2021-03-19T00:00:00",
          "2021-03-22T00:00:00",
          "2021-03-23T00:00:00"
         ],
         "y": [
          27.085811614990234,
          28.658153533935547,
          28.707599639892578,
          28.66804313659668,
          27.847259521484375,
          28.371374130249023,
          28.737266540527344,
          28.76711654663086,
          29.145238876342773,
          28.946226119995117,
          28.787017822265625,
          28.65765953063965,
          28.966129302978516,
          28.428796768188477,
          28.08052635192871,
          28.498449325561523,
          28.578054428100586,
          28.687511444091797,
          28.528303146362305,
          29.593013763427734,
          29.06563377380371,
          29.90148162841797,
          29.811925888061523,
          29.98108673095703,
          29.86168098449707,
          29.83182716369629,
          30.16019630432129,
          29.881582260131836,
          30.110445022583008,
          31.991104125976562,
          32.697593688964844,
          32.369224548339844,
          32.90655517578125,
          33.4936408996582,
          33.29462814331055,
          33.8220100402832,
          32.84685134887695,
          32.60803985595703,
          32.1801643371582,
          31.61298179626465,
          31.394067764282227,
          31.005996704101562,
          30.787084579467773,
          29.68256950378418,
          30.170146942138672,
          29.50345802307129,
          29.811925888061523,
          30.876638412475586,
          31.423919677734375,
          32.33937454223633,
          32.21001434326172,
          32.926456451416016,
          32.78715133666992,
          32.81700134277344,
          32.71749496459961,
          33.205074310302734,
          34.100624084472656,
          34.239933013916016,
          34.021018981933594,
          34.369293212890625,
          34.97627639770508,
          35.34444808959961,
          36.200199127197266,
          35.75242233276367,
          34.538448333740234,
          35.61311340332031,
          35.35439682006836,
          36.23999786376953,
          36.5,
          36.93000030517578,
          37.130001068115234,
          36.31999969482422,
          37.369998931884766,
          37.2400016784668,
          37.939998626708984,
          37.75,
          37.63999938964844,
          37.95000076293945,
          38.939998626708984,
          38.529998779296875,
          37.65999984741211,
          36.8849983215332
         ]
        },
        {
         "line": {
          "color": "green",
          "dash": "dot"
         },
         "name": "ML Prediction",
         "opacity": 0.9,
         "type": "scatter",
         "x": [
          "2021-03-24T00:00:00",
          "2021-03-25T00:00:00",
          "2021-03-26T00:00:00",
          "2021-03-27T00:00:00",
          "2021-03-28T00:00:00",
          "2021-03-29T00:00:00",
          "2021-03-30T00:00:00",
          "2021-03-31T00:00:00",
          "2021-04-01T00:00:00",
          "2021-04-02T00:00:00",
          "2021-04-03T00:00:00",
          "2021-04-04T00:00:00",
          "2021-04-05T00:00:00",
          "2021-04-06T00:00:00",
          "2021-04-07T00:00:00",
          "2021-04-08T00:00:00",
          "2021-04-09T00:00:00",
          "2021-04-10T00:00:00",
          "2021-04-11T00:00:00",
          "2021-04-12T00:00:00",
          "2021-04-13T00:00:00",
          "2021-04-14T00:00:00",
          "2021-04-15T00:00:00",
          "2021-04-16T00:00:00",
          "2021-04-17T00:00:00",
          "2021-04-18T00:00:00",
          "2021-04-19T00:00:00",
          "2021-04-20T00:00:00",
          "2021-04-21T00:00:00",
          "2021-04-22T00:00:00"
         ],
         "y": [
          32.5708680655745,
          32.599909189414475,
          32.503099257738356,
          32.97746606728851,
          33.848748029722195,
          33.984281934068775,
          33.771300084381295,
          34.11013670091061,
          34.700671717146385,
          35.05886660868519,
          35.89142830977416,
          35.455785472894455,
          34.274708017771424,
          35.320251568547874,
          35.06854574618994,
          35.930148571118885,
          36.183105110247936,
          36.60145316922423,
          36.79603426594064,
          36.00798249433574,
          37.02952861293976,
          36.90305405470096,
          37.584082326219814,
          37.39923232556837,
          37.29221253680806,
          37.59381342228479,
          38.55698409847616,
          38.15809452030409,
          37.31167101761227,
          36.5625362076158
         ]
        }
       ],
       "layout": {
        "template": {
         "data": {
          "bar": [
           {
            "error_x": {
             "color": "#f2f5fa"
            },
            "error_y": {
             "color": "#f2f5fa"
            },
            "marker": {
             "line": {
              "color": "rgb(17,17,17)",
              "width": 0.5
             }
            },
            "type": "bar"
           }
          ],
          "barpolar": [
           {
            "marker": {
             "line": {
              "color": "rgb(17,17,17)",
              "width": 0.5
             }
            },
            "type": "barpolar"
           }
          ],
          "carpet": [
           {
            "aaxis": {
             "endlinecolor": "#A2B1C6",
             "gridcolor": "#506784",
             "linecolor": "#506784",
             "minorgridcolor": "#506784",
             "startlinecolor": "#A2B1C6"
            },
            "baxis": {
             "endlinecolor": "#A2B1C6",
             "gridcolor": "#506784",
             "linecolor": "#506784",
             "minorgridcolor": "#506784",
             "startlinecolor": "#A2B1C6"
            },
            "type": "carpet"
           }
          ],
          "choropleth": [
           {
            "colorbar": {
             "outlinewidth": 0,
             "ticks": ""
            },
            "type": "choropleth"
           }
          ],
          "contour": [
           {
            "colorbar": {
             "outlinewidth": 0,
             "ticks": ""
            },
            "colorscale": [
             [
              0,
              "#0d0887"
             ],
             [
              0.1111111111111111,
              "#46039f"
             ],
             [
              0.2222222222222222,
              "#7201a8"
             ],
             [
              0.3333333333333333,
              "#9c179e"
             ],
             [
              0.4444444444444444,
              "#bd3786"
             ],
             [
              0.5555555555555556,
              "#d8576b"
             ],
             [
              0.6666666666666666,
              "#ed7953"
             ],
             [
              0.7777777777777778,
              "#fb9f3a"
             ],
             [
              0.8888888888888888,
              "#fdca26"
             ],
             [
              1,
              "#f0f921"
             ]
            ],
            "type": "contour"
           }
          ],
          "contourcarpet": [
           {
            "colorbar": {
             "outlinewidth": 0,
             "ticks": ""
            },
            "type": "contourcarpet"
           }
          ],
          "heatmap": [
           {
            "colorbar": {
             "outlinewidth": 0,
             "ticks": ""
            },
            "colorscale": [
             [
              0,
              "#0d0887"
             ],
             [
              0.1111111111111111,
              "#46039f"
             ],
             [
              0.2222222222222222,
              "#7201a8"
             ],
             [
              0.3333333333333333,
              "#9c179e"
             ],
             [
              0.4444444444444444,
              "#bd3786"
             ],
             [
              0.5555555555555556,
              "#d8576b"
             ],
             [
              0.6666666666666666,
              "#ed7953"
             ],
             [
              0.7777777777777778,
              "#fb9f3a"
             ],
             [
              0.8888888888888888,
              "#fdca26"
             ],
             [
              1,
              "#f0f921"
             ]
            ],
            "type": "heatmap"
           }
          ],
          "heatmapgl": [
           {
            "colorbar": {
             "outlinewidth": 0,
             "ticks": ""
            },
            "colorscale": [
             [
              0,
              "#0d0887"
             ],
             [
              0.1111111111111111,
              "#46039f"
             ],
             [
              0.2222222222222222,
              "#7201a8"
             ],
             [
              0.3333333333333333,
              "#9c179e"
             ],
             [
              0.4444444444444444,
              "#bd3786"
             ],
             [
              0.5555555555555556,
              "#d8576b"
             ],
             [
              0.6666666666666666,
              "#ed7953"
             ],
             [
              0.7777777777777778,
              "#fb9f3a"
             ],
             [
              0.8888888888888888,
              "#fdca26"
             ],
             [
              1,
              "#f0f921"
             ]
            ],
            "type": "heatmapgl"
           }
          ],
          "histogram": [
           {
            "marker": {
             "colorbar": {
              "outlinewidth": 0,
              "ticks": ""
             }
            },
            "type": "histogram"
           }
          ],
          "histogram2d": [
           {
            "colorbar": {
             "outlinewidth": 0,
             "ticks": ""
            },
            "colorscale": [
             [
              0,
              "#0d0887"
             ],
             [
              0.1111111111111111,
              "#46039f"
             ],
             [
              0.2222222222222222,
              "#7201a8"
             ],
             [
              0.3333333333333333,
              "#9c179e"
             ],
             [
              0.4444444444444444,
              "#bd3786"
             ],
             [
              0.5555555555555556,
              "#d8576b"
             ],
             [
              0.6666666666666666,
              "#ed7953"
             ],
             [
              0.7777777777777778,
              "#fb9f3a"
             ],
             [
              0.8888888888888888,
              "#fdca26"
             ],
             [
              1,
              "#f0f921"
             ]
            ],
            "type": "histogram2d"
           }
          ],
          "histogram2dcontour": [
           {
            "colorbar": {
             "outlinewidth": 0,
             "ticks": ""
            },
            "colorscale": [
             [
              0,
              "#0d0887"
             ],
             [
              0.1111111111111111,
              "#46039f"
             ],
             [
              0.2222222222222222,
              "#7201a8"
             ],
             [
              0.3333333333333333,
              "#9c179e"
             ],
             [
              0.4444444444444444,
              "#bd3786"
             ],
             [
              0.5555555555555556,
              "#d8576b"
             ],
             [
              0.6666666666666666,
              "#ed7953"
             ],
             [
              0.7777777777777778,
              "#fb9f3a"
             ],
             [
              0.8888888888888888,
              "#fdca26"
             ],
             [
              1,
              "#f0f921"
             ]
            ],
            "type": "histogram2dcontour"
           }
          ],
          "mesh3d": [
           {
            "colorbar": {
             "outlinewidth": 0,
             "ticks": ""
            },
            "type": "mesh3d"
           }
          ],
          "parcoords": [
           {
            "line": {
             "colorbar": {
              "outlinewidth": 0,
              "ticks": ""
             }
            },
            "type": "parcoords"
           }
          ],
          "pie": [
           {
            "automargin": true,
            "type": "pie"
           }
          ],
          "scatter": [
           {
            "marker": {
             "line": {
              "color": "#283442"
             }
            },
            "type": "scatter"
           }
          ],
          "scatter3d": [
           {
            "line": {
             "colorbar": {
              "outlinewidth": 0,
              "ticks": ""
             }
            },
            "marker": {
             "colorbar": {
              "outlinewidth": 0,
              "ticks": ""
             }
            },
            "type": "scatter3d"
           }
          ],
          "scattercarpet": [
           {
            "marker": {
             "colorbar": {
              "outlinewidth": 0,
              "ticks": ""
             }
            },
            "type": "scattercarpet"
           }
          ],
          "scattergeo": [
           {
            "marker": {
             "colorbar": {
              "outlinewidth": 0,
              "ticks": ""
             }
            },
            "type": "scattergeo"
           }
          ],
          "scattergl": [
           {
            "marker": {
             "line": {
              "color": "#283442"
             }
            },
            "type": "scattergl"
           }
          ],
          "scattermapbox": [
           {
            "marker": {
             "colorbar": {
              "outlinewidth": 0,
              "ticks": ""
             }
            },
            "type": "scattermapbox"
           }
          ],
          "scatterpolar": [
           {
            "marker": {
             "colorbar": {
              "outlinewidth": 0,
              "ticks": ""
             }
            },
            "type": "scatterpolar"
           }
          ],
          "scatterpolargl": [
           {
            "marker": {
             "colorbar": {
              "outlinewidth": 0,
              "ticks": ""
             }
            },
            "type": "scatterpolargl"
           }
          ],
          "scatterternary": [
           {
            "marker": {
             "colorbar": {
              "outlinewidth": 0,
              "ticks": ""
             }
            },
            "type": "scatterternary"
           }
          ],
          "surface": [
           {
            "colorbar": {
             "outlinewidth": 0,
             "ticks": ""
            },
            "colorscale": [
             [
              0,
              "#0d0887"
             ],
             [
              0.1111111111111111,
              "#46039f"
             ],
             [
              0.2222222222222222,
              "#7201a8"
             ],
             [
              0.3333333333333333,
              "#9c179e"
             ],
             [
              0.4444444444444444,
              "#bd3786"
             ],
             [
              0.5555555555555556,
              "#d8576b"
             ],
             [
              0.6666666666666666,
              "#ed7953"
             ],
             [
              0.7777777777777778,
              "#fb9f3a"
             ],
             [
              0.8888888888888888,
              "#fdca26"
             ],
             [
              1,
              "#f0f921"
             ]
            ],
            "type": "surface"
           }
          ],
          "table": [
           {
            "cells": {
             "fill": {
              "color": "#506784"
             },
             "line": {
              "color": "rgb(17,17,17)"
             }
            },
            "header": {
             "fill": {
              "color": "#2a3f5f"
             },
             "line": {
              "color": "rgb(17,17,17)"
             }
            },
            "type": "table"
           }
          ]
         },
         "layout": {
          "annotationdefaults": {
           "arrowcolor": "#f2f5fa",
           "arrowhead": 0,
           "arrowwidth": 1
          },
          "autotypenumbers": "strict",
          "coloraxis": {
           "colorbar": {
            "outlinewidth": 0,
            "ticks": ""
           }
          },
          "colorscale": {
           "diverging": [
            [
             0,
             "#8e0152"
            ],
            [
             0.1,
             "#c51b7d"
            ],
            [
             0.2,
             "#de77ae"
            ],
            [
             0.3,
             "#f1b6da"
            ],
            [
             0.4,
             "#fde0ef"
            ],
            [
             0.5,
             "#f7f7f7"
            ],
            [
             0.6,
             "#e6f5d0"
            ],
            [
             0.7,
             "#b8e186"
            ],
            [
             0.8,
             "#7fbc41"
            ],
            [
             0.9,
             "#4d9221"
            ],
            [
             1,
             "#276419"
            ]
           ],
           "sequential": [
            [
             0,
             "#0d0887"
            ],
            [
             0.1111111111111111,
             "#46039f"
            ],
            [
             0.2222222222222222,
             "#7201a8"
            ],
            [
             0.3333333333333333,
             "#9c179e"
            ],
            [
             0.4444444444444444,
             "#bd3786"
            ],
            [
             0.5555555555555556,
             "#d8576b"
            ],
            [
             0.6666666666666666,
             "#ed7953"
            ],
            [
             0.7777777777777778,
             "#fb9f3a"
            ],
            [
             0.8888888888888888,
             "#fdca26"
            ],
            [
             1,
             "#f0f921"
            ]
           ],
           "sequentialminus": [
            [
             0,
             "#0d0887"
            ],
            [
             0.1111111111111111,
             "#46039f"
            ],
            [
             0.2222222222222222,
             "#7201a8"
            ],
            [
             0.3333333333333333,
             "#9c179e"
            ],
            [
             0.4444444444444444,
             "#bd3786"
            ],
            [
             0.5555555555555556,
             "#d8576b"
            ],
            [
             0.6666666666666666,
             "#ed7953"
            ],
            [
             0.7777777777777778,
             "#fb9f3a"
            ],
            [
             0.8888888888888888,
             "#fdca26"
            ],
            [
             1,
             "#f0f921"
            ]
           ]
          },
          "colorway": [
           "#636efa",
           "#EF553B",
           "#00cc96",
           "#ab63fa",
           "#FFA15A",
           "#19d3f3",
           "#FF6692",
           "#B6E880",
           "#FF97FF",
           "#FECB52"
          ],
          "font": {
           "color": "#f2f5fa"
          },
          "geo": {
           "bgcolor": "rgb(17,17,17)",
           "lakecolor": "rgb(17,17,17)",
           "landcolor": "rgb(17,17,17)",
           "showlakes": true,
           "showland": true,
           "subunitcolor": "#506784"
          },
          "hoverlabel": {
           "align": "left"
          },
          "hovermode": "closest",
          "mapbox": {
           "style": "dark"
          },
          "paper_bgcolor": "rgb(17,17,17)",
          "plot_bgcolor": "rgb(17,17,17)",
          "polar": {
           "angularaxis": {
            "gridcolor": "#506784",
            "linecolor": "#506784",
            "ticks": ""
           },
           "bgcolor": "rgb(17,17,17)",
           "radialaxis": {
            "gridcolor": "#506784",
            "linecolor": "#506784",
            "ticks": ""
           }
          },
          "scene": {
           "xaxis": {
            "backgroundcolor": "rgb(17,17,17)",
            "gridcolor": "#506784",
            "gridwidth": 2,
            "linecolor": "#506784",
            "showbackground": true,
            "ticks": "",
            "zerolinecolor": "#C8D4E3"
           },
           "yaxis": {
            "backgroundcolor": "rgb(17,17,17)",
            "gridcolor": "#506784",
            "gridwidth": 2,
            "linecolor": "#506784",
            "showbackground": true,
            "ticks": "",
            "zerolinecolor": "#C8D4E3"
           },
           "zaxis": {
            "backgroundcolor": "rgb(17,17,17)",
            "gridcolor": "#506784",
            "gridwidth": 2,
            "linecolor": "#506784",
            "showbackground": true,
            "ticks": "",
            "zerolinecolor": "#C8D4E3"
           }
          },
          "shapedefaults": {
           "line": {
            "color": "#f2f5fa"
           }
          },
          "sliderdefaults": {
           "bgcolor": "#C8D4E3",
           "bordercolor": "rgb(17,17,17)",
           "borderwidth": 1,
           "tickwidth": 0
          },
          "ternary": {
           "aaxis": {
            "gridcolor": "#506784",
            "linecolor": "#506784",
            "ticks": ""
           },
           "baxis": {
            "gridcolor": "#506784",
            "linecolor": "#506784",
            "ticks": ""
           },
           "bgcolor": "rgb(17,17,17)",
           "caxis": {
            "gridcolor": "#506784",
            "linecolor": "#506784",
            "ticks": ""
           }
          },
          "title": {
           "x": 0.05
          },
          "updatemenudefaults": {
           "bgcolor": "#506784",
           "borderwidth": 0
          },
          "xaxis": {
           "automargin": true,
           "gridcolor": "#283442",
           "linecolor": "#506784",
           "ticks": "",
           "title": {
            "standoff": 15
           },
           "zerolinecolor": "#283442",
           "zerolinewidth": 2
          },
          "yaxis": {
           "automargin": true,
           "gridcolor": "#283442",
           "linecolor": "#506784",
           "ticks": "",
           "title": {
            "standoff": 15
           },
           "zerolinecolor": "#283442",
           "zerolinewidth": 2
          }
         }
        },
        "title": {
         "text": "Historical BAC Quote Stock Value - With 30 Days Prediction"
        },
        "xaxis": {
         "tickfont": {
          "size": 14
         }
        },
        "yaxis": {
         "tickfont": {
          "size": 14
         },
         "title": {
          "text": "Closing Day Price Value in USD"
         }
        }
       }
      }
     },
     "metadata": {},
     "output_type": "display_data"
    },
    {
     "name": "stdout",
     "output_type": "stream",
     "text": [
      "\n",
      " SELECT FROM THE BELOW YOUR ANALYSIS OPTION: \n",
      "\n",
      "    1 - Machine Learning 15 days Prediction (SVR Model) from Your Stock \"BAC\" Tricker.\n",
      "    2 - Machine Learning 30 days Prediction (SVR Model) from Your Stock \"BAC\" Tricker.\n",
      "    3 - Price Date Range Chart (YYY-MM-DD) from your Stock \"BAC\" Tricker.\n",
      "    4 - Price Comparison from your Stock \"BAC\" Tricker with another Tricker.\n",
      "    5 - Your Stock \"BAC\" Tricker 180 Past-Days Analysis.\n",
      "\n",
      "    Q - Quit and Restart the Process using different Symbol or Stock Tricker.\n",
      "    \n"
     ]
    },
    {
     "data": {
      "application/vnd.plotly.v1+json": {
       "config": {
        "plotlyServerURL": "https://plot.ly"
       },
       "data": [
        {
         "line": {
          "color": "dodgerblue"
         },
         "type": "scatter",
         "x": [
          "2021-02-01T00:00:00",
          "2021-02-02T00:00:00",
          "2021-02-03T00:00:00",
          "2021-02-04T00:00:00",
          "2021-02-05T00:00:00",
          "2021-02-08T00:00:00",
          "2021-02-09T00:00:00",
          "2021-02-10T00:00:00",
          "2021-02-11T00:00:00",
          "2021-02-12T00:00:00",
          "2021-02-16T00:00:00",
          "2021-02-17T00:00:00",
          "2021-02-18T00:00:00",
          "2021-02-19T00:00:00",
          "2021-02-22T00:00:00",
          "2021-02-23T00:00:00",
          "2021-02-24T00:00:00",
          "2021-02-25T00:00:00",
          "2021-02-26T00:00:00",
          "2021-03-01T00:00:00",
          "2021-03-02T00:00:00",
          "2021-03-03T00:00:00",
          "2021-03-04T00:00:00",
          "2021-03-05T00:00:00",
          "2021-03-08T00:00:00",
          "2021-03-09T00:00:00",
          "2021-03-10T00:00:00",
          "2021-03-11T00:00:00",
          "2021-03-12T00:00:00",
          "2021-03-15T00:00:00",
          "2021-03-16T00:00:00",
          "2021-03-17T00:00:00",
          "2021-03-18T00:00:00",
          "2021-03-19T00:00:00",
          "2021-03-22T00:00:00",
          "2021-03-23T00:00:00"
         ],
         "y": [
          29.811925888061523,
          30.876638412475586,
          31.423919677734375,
          32.33937454223633,
          32.21001434326172,
          32.926456451416016,
          32.78715133666992,
          32.81700134277344,
          32.71749496459961,
          33.205074310302734,
          34.100624084472656,
          34.239933013916016,
          34.021018981933594,
          34.369293212890625,
          34.97627639770508,
          35.34444808959961,
          36.200199127197266,
          35.75242233276367,
          34.538448333740234,
          35.61311340332031,
          35.35439682006836,
          36.23999786376953,
          36.5,
          36.93000030517578,
          37.130001068115234,
          36.31999969482422,
          37.369998931884766,
          37.2400016784668,
          37.939998626708984,
          37.75,
          37.63999938964844,
          37.95000076293945,
          38.939998626708984,
          38.529998779296875,
          37.65999984741211,
          36.904998779296875
         ]
        }
       ],
       "layout": {
        "template": {
         "data": {
          "bar": [
           {
            "error_x": {
             "color": "#f2f5fa"
            },
            "error_y": {
             "color": "#f2f5fa"
            },
            "marker": {
             "line": {
              "color": "rgb(17,17,17)",
              "width": 0.5
             }
            },
            "type": "bar"
           }
          ],
          "barpolar": [
           {
            "marker": {
             "line": {
              "color": "rgb(17,17,17)",
              "width": 0.5
             }
            },
            "type": "barpolar"
           }
          ],
          "carpet": [
           {
            "aaxis": {
             "endlinecolor": "#A2B1C6",
             "gridcolor": "#506784",
             "linecolor": "#506784",
             "minorgridcolor": "#506784",
             "startlinecolor": "#A2B1C6"
            },
            "baxis": {
             "endlinecolor": "#A2B1C6",
             "gridcolor": "#506784",
             "linecolor": "#506784",
             "minorgridcolor": "#506784",
             "startlinecolor": "#A2B1C6"
            },
            "type": "carpet"
           }
          ],
          "choropleth": [
           {
            "colorbar": {
             "outlinewidth": 0,
             "ticks": ""
            },
            "type": "choropleth"
           }
          ],
          "contour": [
           {
            "colorbar": {
             "outlinewidth": 0,
             "ticks": ""
            },
            "colorscale": [
             [
              0,
              "#0d0887"
             ],
             [
              0.1111111111111111,
              "#46039f"
             ],
             [
              0.2222222222222222,
              "#7201a8"
             ],
             [
              0.3333333333333333,
              "#9c179e"
             ],
             [
              0.4444444444444444,
              "#bd3786"
             ],
             [
              0.5555555555555556,
              "#d8576b"
             ],
             [
              0.6666666666666666,
              "#ed7953"
             ],
             [
              0.7777777777777778,
              "#fb9f3a"
             ],
             [
              0.8888888888888888,
              "#fdca26"
             ],
             [
              1,
              "#f0f921"
             ]
            ],
            "type": "contour"
           }
          ],
          "contourcarpet": [
           {
            "colorbar": {
             "outlinewidth": 0,
             "ticks": ""
            },
            "type": "contourcarpet"
           }
          ],
          "heatmap": [
           {
            "colorbar": {
             "outlinewidth": 0,
             "ticks": ""
            },
            "colorscale": [
             [
              0,
              "#0d0887"
             ],
             [
              0.1111111111111111,
              "#46039f"
             ],
             [
              0.2222222222222222,
              "#7201a8"
             ],
             [
              0.3333333333333333,
              "#9c179e"
             ],
             [
              0.4444444444444444,
              "#bd3786"
             ],
             [
              0.5555555555555556,
              "#d8576b"
             ],
             [
              0.6666666666666666,
              "#ed7953"
             ],
             [
              0.7777777777777778,
              "#fb9f3a"
             ],
             [
              0.8888888888888888,
              "#fdca26"
             ],
             [
              1,
              "#f0f921"
             ]
            ],
            "type": "heatmap"
           }
          ],
          "heatmapgl": [
           {
            "colorbar": {
             "outlinewidth": 0,
             "ticks": ""
            },
            "colorscale": [
             [
              0,
              "#0d0887"
             ],
             [
              0.1111111111111111,
              "#46039f"
             ],
             [
              0.2222222222222222,
              "#7201a8"
             ],
             [
              0.3333333333333333,
              "#9c179e"
             ],
             [
              0.4444444444444444,
              "#bd3786"
             ],
             [
              0.5555555555555556,
              "#d8576b"
             ],
             [
              0.6666666666666666,
              "#ed7953"
             ],
             [
              0.7777777777777778,
              "#fb9f3a"
             ],
             [
              0.8888888888888888,
              "#fdca26"
             ],
             [
              1,
              "#f0f921"
             ]
            ],
            "type": "heatmapgl"
           }
          ],
          "histogram": [
           {
            "marker": {
             "colorbar": {
              "outlinewidth": 0,
              "ticks": ""
             }
            },
            "type": "histogram"
           }
          ],
          "histogram2d": [
           {
            "colorbar": {
             "outlinewidth": 0,
             "ticks": ""
            },
            "colorscale": [
             [
              0,
              "#0d0887"
             ],
             [
              0.1111111111111111,
              "#46039f"
             ],
             [
              0.2222222222222222,
              "#7201a8"
             ],
             [
              0.3333333333333333,
              "#9c179e"
             ],
             [
              0.4444444444444444,
              "#bd3786"
             ],
             [
              0.5555555555555556,
              "#d8576b"
             ],
             [
              0.6666666666666666,
              "#ed7953"
             ],
             [
              0.7777777777777778,
              "#fb9f3a"
             ],
             [
              0.8888888888888888,
              "#fdca26"
             ],
             [
              1,
              "#f0f921"
             ]
            ],
            "type": "histogram2d"
           }
          ],
          "histogram2dcontour": [
           {
            "colorbar": {
             "outlinewidth": 0,
             "ticks": ""
            },
            "colorscale": [
             [
              0,
              "#0d0887"
             ],
             [
              0.1111111111111111,
              "#46039f"
             ],
             [
              0.2222222222222222,
              "#7201a8"
             ],
             [
              0.3333333333333333,
              "#9c179e"
             ],
             [
              0.4444444444444444,
              "#bd3786"
             ],
             [
              0.5555555555555556,
              "#d8576b"
             ],
             [
              0.6666666666666666,
              "#ed7953"
             ],
             [
              0.7777777777777778,
              "#fb9f3a"
             ],
             [
              0.8888888888888888,
              "#fdca26"
             ],
             [
              1,
              "#f0f921"
             ]
            ],
            "type": "histogram2dcontour"
           }
          ],
          "mesh3d": [
           {
            "colorbar": {
             "outlinewidth": 0,
             "ticks": ""
            },
            "type": "mesh3d"
           }
          ],
          "parcoords": [
           {
            "line": {
             "colorbar": {
              "outlinewidth": 0,
              "ticks": ""
             }
            },
            "type": "parcoords"
           }
          ],
          "pie": [
           {
            "automargin": true,
            "type": "pie"
           }
          ],
          "scatter": [
           {
            "marker": {
             "line": {
              "color": "#283442"
             }
            },
            "type": "scatter"
           }
          ],
          "scatter3d": [
           {
            "line": {
             "colorbar": {
              "outlinewidth": 0,
              "ticks": ""
             }
            },
            "marker": {
             "colorbar": {
              "outlinewidth": 0,
              "ticks": ""
             }
            },
            "type": "scatter3d"
           }
          ],
          "scattercarpet": [
           {
            "marker": {
             "colorbar": {
              "outlinewidth": 0,
              "ticks": ""
             }
            },
            "type": "scattercarpet"
           }
          ],
          "scattergeo": [
           {
            "marker": {
             "colorbar": {
              "outlinewidth": 0,
              "ticks": ""
             }
            },
            "type": "scattergeo"
           }
          ],
          "scattergl": [
           {
            "marker": {
             "line": {
              "color": "#283442"
             }
            },
            "type": "scattergl"
           }
          ],
          "scattermapbox": [
           {
            "marker": {
             "colorbar": {
              "outlinewidth": 0,
              "ticks": ""
             }
            },
            "type": "scattermapbox"
           }
          ],
          "scatterpolar": [
           {
            "marker": {
             "colorbar": {
              "outlinewidth": 0,
              "ticks": ""
             }
            },
            "type": "scatterpolar"
           }
          ],
          "scatterpolargl": [
           {
            "marker": {
             "colorbar": {
              "outlinewidth": 0,
              "ticks": ""
             }
            },
            "type": "scatterpolargl"
           }
          ],
          "scatterternary": [
           {
            "marker": {
             "colorbar": {
              "outlinewidth": 0,
              "ticks": ""
             }
            },
            "type": "scatterternary"
           }
          ],
          "surface": [
           {
            "colorbar": {
             "outlinewidth": 0,
             "ticks": ""
            },
            "colorscale": [
             [
              0,
              "#0d0887"
             ],
             [
              0.1111111111111111,
              "#46039f"
             ],
             [
              0.2222222222222222,
              "#7201a8"
             ],
             [
              0.3333333333333333,
              "#9c179e"
             ],
             [
              0.4444444444444444,
              "#bd3786"
             ],
             [
              0.5555555555555556,
              "#d8576b"
             ],
             [
              0.6666666666666666,
              "#ed7953"
             ],
             [
              0.7777777777777778,
              "#fb9f3a"
             ],
             [
              0.8888888888888888,
              "#fdca26"
             ],
             [
              1,
              "#f0f921"
             ]
            ],
            "type": "surface"
           }
          ],
          "table": [
           {
            "cells": {
             "fill": {
              "color": "#506784"
             },
             "line": {
              "color": "rgb(17,17,17)"
             }
            },
            "header": {
             "fill": {
              "color": "#2a3f5f"
             },
             "line": {
              "color": "rgb(17,17,17)"
             }
            },
            "type": "table"
           }
          ]
         },
         "layout": {
          "annotationdefaults": {
           "arrowcolor": "#f2f5fa",
           "arrowhead": 0,
           "arrowwidth": 1
          },
          "autotypenumbers": "strict",
          "coloraxis": {
           "colorbar": {
            "outlinewidth": 0,
            "ticks": ""
           }
          },
          "colorscale": {
           "diverging": [
            [
             0,
             "#8e0152"
            ],
            [
             0.1,
             "#c51b7d"
            ],
            [
             0.2,
             "#de77ae"
            ],
            [
             0.3,
             "#f1b6da"
            ],
            [
             0.4,
             "#fde0ef"
            ],
            [
             0.5,
             "#f7f7f7"
            ],
            [
             0.6,
             "#e6f5d0"
            ],
            [
             0.7,
             "#b8e186"
            ],
            [
             0.8,
             "#7fbc41"
            ],
            [
             0.9,
             "#4d9221"
            ],
            [
             1,
             "#276419"
            ]
           ],
           "sequential": [
            [
             0,
             "#0d0887"
            ],
            [
             0.1111111111111111,
             "#46039f"
            ],
            [
             0.2222222222222222,
             "#7201a8"
            ],
            [
             0.3333333333333333,
             "#9c179e"
            ],
            [
             0.4444444444444444,
             "#bd3786"
            ],
            [
             0.5555555555555556,
             "#d8576b"
            ],
            [
             0.6666666666666666,
             "#ed7953"
            ],
            [
             0.7777777777777778,
             "#fb9f3a"
            ],
            [
             0.8888888888888888,
             "#fdca26"
            ],
            [
             1,
             "#f0f921"
            ]
           ],
           "sequentialminus": [
            [
             0,
             "#0d0887"
            ],
            [
             0.1111111111111111,
             "#46039f"
            ],
            [
             0.2222222222222222,
             "#7201a8"
            ],
            [
             0.3333333333333333,
             "#9c179e"
            ],
            [
             0.4444444444444444,
             "#bd3786"
            ],
            [
             0.5555555555555556,
             "#d8576b"
            ],
            [
             0.6666666666666666,
             "#ed7953"
            ],
            [
             0.7777777777777778,
             "#fb9f3a"
            ],
            [
             0.8888888888888888,
             "#fdca26"
            ],
            [
             1,
             "#f0f921"
            ]
           ]
          },
          "colorway": [
           "#636efa",
           "#EF553B",
           "#00cc96",
           "#ab63fa",
           "#FFA15A",
           "#19d3f3",
           "#FF6692",
           "#B6E880",
           "#FF97FF",
           "#FECB52"
          ],
          "font": {
           "color": "#f2f5fa"
          },
          "geo": {
           "bgcolor": "rgb(17,17,17)",
           "lakecolor": "rgb(17,17,17)",
           "landcolor": "rgb(17,17,17)",
           "showlakes": true,
           "showland": true,
           "subunitcolor": "#506784"
          },
          "hoverlabel": {
           "align": "left"
          },
          "hovermode": "closest",
          "mapbox": {
           "style": "dark"
          },
          "paper_bgcolor": "rgb(17,17,17)",
          "plot_bgcolor": "rgb(17,17,17)",
          "polar": {
           "angularaxis": {
            "gridcolor": "#506784",
            "linecolor": "#506784",
            "ticks": ""
           },
           "bgcolor": "rgb(17,17,17)",
           "radialaxis": {
            "gridcolor": "#506784",
            "linecolor": "#506784",
            "ticks": ""
           }
          },
          "scene": {
           "xaxis": {
            "backgroundcolor": "rgb(17,17,17)",
            "gridcolor": "#506784",
            "gridwidth": 2,
            "linecolor": "#506784",
            "showbackground": true,
            "ticks": "",
            "zerolinecolor": "#C8D4E3"
           },
           "yaxis": {
            "backgroundcolor": "rgb(17,17,17)",
            "gridcolor": "#506784",
            "gridwidth": 2,
            "linecolor": "#506784",
            "showbackground": true,
            "ticks": "",
            "zerolinecolor": "#C8D4E3"
           },
           "zaxis": {
            "backgroundcolor": "rgb(17,17,17)",
            "gridcolor": "#506784",
            "gridwidth": 2,
            "linecolor": "#506784",
            "showbackground": true,
            "ticks": "",
            "zerolinecolor": "#C8D4E3"
           }
          },
          "shapedefaults": {
           "line": {
            "color": "#f2f5fa"
           }
          },
          "sliderdefaults": {
           "bgcolor": "#C8D4E3",
           "bordercolor": "rgb(17,17,17)",
           "borderwidth": 1,
           "tickwidth": 0
          },
          "ternary": {
           "aaxis": {
            "gridcolor": "#506784",
            "linecolor": "#506784",
            "ticks": ""
           },
           "baxis": {
            "gridcolor": "#506784",
            "linecolor": "#506784",
            "ticks": ""
           },
           "bgcolor": "rgb(17,17,17)",
           "caxis": {
            "gridcolor": "#506784",
            "linecolor": "#506784",
            "ticks": ""
           }
          },
          "title": {
           "x": 0.05
          },
          "updatemenudefaults": {
           "bgcolor": "#506784",
           "borderwidth": 0
          },
          "xaxis": {
           "automargin": true,
           "gridcolor": "#283442",
           "linecolor": "#506784",
           "ticks": "",
           "title": {
            "standoff": 15
           },
           "zerolinecolor": "#283442",
           "zerolinewidth": 2
          },
          "yaxis": {
           "automargin": true,
           "gridcolor": "#283442",
           "linecolor": "#506784",
           "ticks": "",
           "title": {
            "standoff": 15
           },
           "zerolinecolor": "#283442",
           "zerolinewidth": 2
          }
         }
        },
        "title": {
         "text": "BAC Stock Price from 2021-02-01 to 2021-03-23"
        },
        "xaxis": {
         "tickfont": {
          "size": 14
         }
        },
        "yaxis": {
         "tickfont": {
          "size": 14
         },
         "title": {
          "text": "Closing Day Price Value in USD"
         }
        }
       }
      }
     },
     "metadata": {},
     "output_type": "display_data"
    },
    {
     "name": "stdout",
     "output_type": "stream",
     "text": [
      "\n",
      " SELECT FROM THE BELOW YOUR ANALYSIS OPTION: \n",
      "\n",
      "    1 - Machine Learning 15 days Prediction (SVR Model) from Your Stock \"BAC\" Tricker.\n",
      "    2 - Machine Learning 30 days Prediction (SVR Model) from Your Stock \"BAC\" Tricker.\n",
      "    3 - Price Date Range Chart (YYY-MM-DD) from your Stock \"BAC\" Tricker.\n",
      "    4 - Price Comparison from your Stock \"BAC\" Tricker with another Tricker.\n",
      "    5 - Your Stock \"BAC\" Tricker 180 Past-Days Analysis.\n",
      "\n",
      "    Q - Quit and Restart the Process using different Symbol or Stock Tricker.\n",
      "    \n",
      "\u001b[94m\u001b[1m\n",
      "> If you like our results, please share our solution with others! Thank you!\u001b[0m\n"
     ]
    }
   ],
   "source": [
    "from pandas_datareader import data\n",
    "\n",
    "\n",
    "# Date Vars Definicion (YYY-MM-DD)\n",
    "start_date = '2020-01-01'\n",
    "end_date = '2020-01-15'\n",
    "\n",
    "\n",
    "# WHILE-TRUE as END USER Inputs for DataFrame interaction with Yahoo Finance.\n",
    "# From PANDAS, DATAREADER to get our Final Data interaction.\n",
    "while True:\n",
    "    try:\n",
    "        symbol = input('Enter a valid Stock Tricker Symbol: ')\n",
    "        # We're using the \"symbol\" as Stock ticker, then \"yahoo\" for Yahoo Finance historial data, and last, \"start_date\" and \"end_date\" as Date manual input search criteria. \n",
    "        df = data.DataReader(symbol, 'yahoo', start_date, end_date)\n",
    "        break\n",
    "    # As en error respond: (Example: An invalid Stock Symbol) our END USER gerts the below to submit a valid ticker. \n",
    "    except(KeyError, OSError):\n",
    "        print(color.RED + color.DARKCYAN + f'> {symbol} is not a valid Stock Symbol. Please submit a valid Stock Symbol, Example: BAC for Bank of America' + color.END) \n",
    "\n",
    "\n",
    "\n",
    "\n",
    "# Make a User Menu\n",
    "print(color.BOLD + color.UNDERLINE + color.DARKCYAN + '\\n> Please select from below an option to Analyzing your Stock Ticker Data:' + color.END)\n",
    "choice = True\n",
    "while choice:\n",
    "    print(f'''\\n SELECT FROM THE BELOW YOUR ANALYSIS OPTION: \\n\n",
    "    1 - Machine Learning 15 days Prediction (SVR Model) from Your Stock \"{symbol}\" Tricker.\n",
    "    2 - Machine Learning 30 days Prediction (SVR Model) from Your Stock \"{symbol}\" Tricker.\n",
    "    3 - Price Date Range Chart (YYY-MM-DD) from your Stock \"{symbol}\" Tricker.\n",
    "    4 - Price Comparison from your Stock \"{symbol}\" Tricker with another Tricker.\n",
    "    5 - Your Stock \"{symbol}\" Tricker 180 Past-Days Analysis.\n",
    "\n",
    "    Q - Quit and Restart the Process using different Symbol or Stock Tricker.\n",
    "    ''')\n",
    "    choice = (input('''\\nPlease select a Numeric Option (Example: For the Second Option type \"1\" and or \"Q\" to Quit.): '''))\n",
    "    \n",
    "    \n",
    "    \n",
    "    \n",
    "    \n",
    "    \n",
    "    # ALL CONDITIONS (1 to 5 including Q option)\n",
    "    \n",
    "    # OPTION 1: Machine Learning 15 days Prediction from Your Stock \"{symbol}\" Tricker.\n",
    "    if choice == '1' or choice == 'A' or choice == 'a':\n",
    "        \n",
    "        today = date.today()\n",
    "        today = today.strftime('%Y-%m-%d')\n",
    "\n",
    "        df = data.DataReader(symbol, 'yahoo', '2000-01-01', 'today')\n",
    "\n",
    "        df = df[['Adj Close']]\n",
    "\n",
    "        # N as Variable for 15 days\n",
    "        n = 7\n",
    "\n",
    "\n",
    "        df['Prediction'] = df[['Adj Close']].shift(-n)\n",
    "        \n",
    "\n",
    "        # Creating Independent DataSet \"X\"\n",
    "        X = df.drop(['Prediction'],1)\n",
    "\n",
    "        X = np.array(X)\n",
    "\n",
    "        X = X[:-n]\n",
    "\n",
    "        # Create the Dependent \"Y\" DataSet\n",
    "        Y = df['Prediction']\n",
    "\n",
    "        Y = np.array(Y)\n",
    "\n",
    "        # Remove the last \"n\" rows\n",
    "        Y = Y[:-n]\n",
    "\n",
    "        # Split the data into 80% train data and 20 % test data\n",
    "        x_train, x_test, y_train, y_test = train_test_split(X, Y, test_size = 0.2)\n",
    "\n",
    "        # Create Linear Regression Model\n",
    "        lr = LinearRegression()\n",
    "        # Train the model\n",
    "        lr.fit(x_train, y_train)\n",
    "\n",
    "        # We want the last 30 rows  \n",
    "        forecast = np.array(df.drop(['Prediction'],1))[-n:]\n",
    "\n",
    "\n",
    "        # Print the predictions for the next \"n\" days\n",
    "        lr_prediction = lr.predict(forecast)\n",
    "\n",
    "  \n",
    "        predictions = pd.DataFrame(lr_prediction, columns = ['Prediction'])\n",
    "        # \"predictions\" has 1 column with the predicted values\n",
    "\n",
    "        df = df.reset_index()\n",
    "\n",
    "        # From \"Date\" we need the to get the last value\n",
    "        d = df['Date'].iloc[-1]\n",
    "        d = d + relativedelta(days =+ 1)\n",
    "\n",
    "        # Now we make a list with the respective daterange for our prediction, 15 days after that. \n",
    "        datelist = pd.date_range(d, periods = 7).tolist()\n",
    "\n",
    "        # We add the variable to our Dataframe \"predictions\"\n",
    "        predictions['Date'] = datelist\n",
    "        \n",
    "        # Save the date of today 3 months older\n",
    "        trhee_months = date.today() - relativedelta(months=+6)\n",
    "        trhee_months = trhee_months.strftime('%Y-%m-%d')\n",
    "\n",
    "        # Get the data for plotting\n",
    "        df = data.DataReader(symbol, 'yahoo', trhee_months, today)\n",
    "        df = df.reset_index()\n",
    "\n",
    "        # Plotting the chart\n",
    "        fig = go.Figure()\n",
    "        # Add the data from the first stock\n",
    "        fig.add_trace(go.Scatter(\n",
    "                        x=df.Date,\n",
    "                        y=df['Adj Close'],\n",
    "                        name=f'{symbol} stock',\n",
    "                        line_color='dodgerblue',\n",
    "                        opacity=0.9))\n",
    "        \n",
    "        # Add the data from the predictions\n",
    "        fig.add_trace(go.Scatter(\n",
    "                        x=predictions.Date,\n",
    "                        y=predictions['Prediction'],\n",
    "                        name=f'ML Prediction',\n",
    "                        line=dict(color='green', dash = 'dot'),\n",
    "                        opacity=0.9))\n",
    "    \n",
    "        fig.update_layout(title=f'Historical {symbol} Quote Stock Value - With 15 Days Prediction',\n",
    "                                    yaxis_title='Closing Day Price Value in USD',\n",
    "                                    template='plotly_dark',\n",
    "                                    xaxis_tickfont_size=14,\n",
    "                                    yaxis_tickfont_size=14)\n",
    "        \n",
    "        fig.show()\n",
    "\n",
    "\n",
    "   \n",
    "    \n",
    "    \n",
    "    # OPTION 2: Machine Learning 30 days Prediction from Your Stock \"{symbol}\" Tricker.\n",
    "    # Same model as above, but using 4 Months data for 30 precition price. \n",
    "\n",
    "    elif choice == '2' or choice == 'B' or choice == 'b':\n",
    "        \n",
    "        # Get the date of today\n",
    "        today = date.today()\n",
    "        # Change the format\n",
    "        today = today.strftime('%Y-%m-%d')\n",
    "\n",
    "        df = data.DataReader(symbol, 'yahoo', '2000-01-01', 'today')\n",
    "\n",
    "        df = df[['Adj Close']]\n",
    "\n",
    "        # N as Variable for 30 days\n",
    "        n = 30\n",
    "\n",
    "        # Create another column \"Prediction\" shifted \"n\" units up\n",
    "        df['Prediction'] = df[['Adj Close']].shift(-n)\n",
    "        \n",
    "        X = df.drop(['Prediction'],1)\n",
    "        X = np.array(X)\n",
    "        X = X[:-n]\n",
    "\n",
    "\n",
    "        Y = df['Prediction']\n",
    "        Y = np.array(Y)\n",
    "        Y = Y[:-n]\n",
    "\n",
    "        # Split the data into 80% train data and 20 % test data\n",
    "        x_train, x_test, y_train, y_test = train_test_split(X, Y, test_size = 0.2)\n",
    "\n",
    "\n",
    "        lr = LinearRegression()\n",
    "\n",
    "        lr.fit(x_train, y_train)\n",
    " \n",
    "        forecast = np.array(df.drop(['Prediction'],1))[-n:]\n",
    "\n",
    "        lr_prediction = lr.predict(forecast)\n",
    "\n",
    "\n",
    "        predictions = pd.DataFrame(lr_prediction, columns = ['Prediction'])\n",
    "\n",
    "        df = df.reset_index()\n",
    "\n",
    "        d = df['Date'].iloc[-1]\n",
    "        d = d + relativedelta(days =+ 1)\n",
    "\n",
    "\n",
    "        datelist = pd.date_range(d, periods = 30).tolist()\n",
    "\n",
    "        predictions['Date'] = datelist\n",
    "\n",
    "        \n",
    "\n",
    "        four_months = date.today() - relativedelta(months=+4)\n",
    "        four_months = four_months.strftime('%Y-%m-%d')\n",
    "\n",
    "\n",
    "        df = data.DataReader(symbol, 'yahoo', four_months, today)\n",
    "        df = df.reset_index()\n",
    "\n",
    "\n",
    "        fig = go.Figure()\n",
    "\n",
    "        fig.add_trace(go.Scatter(\n",
    "                        x=df.Date,\n",
    "                        y=df['Adj Close'],\n",
    "                        name=f'{symbol} stock',\n",
    "                        line_color='dodgerblue',\n",
    "                        opacity=0.9))\n",
    "        \n",
    "\n",
    "        fig.add_trace(go.Scatter(\n",
    "                        x=predictions.Date,\n",
    "                        y=predictions['Prediction'],\n",
    "                        name=f'ML Prediction',\n",
    "                        line=dict(color='green', dash = 'dot'),\n",
    "                        opacity=0.9))\n",
    "    \n",
    "        fig.update_layout(title=f'Historical {symbol} Quote Stock Value - With 30 Days Prediction',\n",
    "                                    yaxis_title='Closing Day Price Value in USD',\n",
    "                                    template='plotly_dark',\n",
    "                                    xaxis_tickfont_size=14,\n",
    "                                    yaxis_tickfont_size=14)\n",
    "        \n",
    "        fig.show()\n",
    "\n",
    "\n",
    "\n",
    "\n",
    "\n",
    "    # OPTION 3: Price Date Range Chart from Date Selected. \n",
    "\n",
    "    elif choice == '3' or choice == 'C' or choice == 'c':\n",
    "    \n",
    "        start_date = input('\\nSubmit you Starting Date Analysis (With YYYY-MM-DD Format): ')\n",
    "        end_date = input('Submit you Ending Date Analysis (With YYYY-MM-DD Format): ')\n",
    "    \n",
    "        df = data.DataReader(symbol, 'yahoo', start_date, end_date)\n",
    "    \n",
    "        df = df.reset_index()\n",
    "\n",
    "        fig = go.Figure()\n",
    "        fig.add_trace(go.Scatter(x=df.Date,\n",
    "                                 y=df['Adj Close'],\n",
    "                                 line_color='dodgerblue'))\n",
    "        \n",
    "        fig.update_layout(title=f'{symbol} Stock Price from {start_date} to {end_date}',\n",
    "                                    yaxis_title='Closing Day Price Value in USD',\n",
    "                                    template='plotly_dark',\n",
    "                                    xaxis_tickfont_size=14,\n",
    "                                    yaxis_tickfont_size=14)\n",
    "\n",
    "        fig.show()\n",
    "     \n",
    "    \n",
    "    \n",
    "\n",
    "\n",
    "\n",
    "    # OPTION 4: Price Comparison from your Stock Tricker.\n",
    "    elif choice == '4' or choice == 'D' or choice == 'd':\n",
    "        start_date = input('\\nSubmit you Starting Date Analysis (With YYYY-MM-DD Format): ')\n",
    "        end_date = input('Submit you Ending Date Analysis (With YYYY-MM-DD Format): ')\n",
    "    \n",
    "        df = data.DataReader(symbol, 'yahoo', start_date, end_date)\n",
    "        df = df.reset_index()\n",
    "        \n",
    "        while True:\n",
    "            try:\n",
    "                symbol_2 = input(f'\\nWith which stock would you like to compare {symbol} stock? \\nPlease enter a valid Stock Symbol: ')\n",
    "                df_2 = data.DataReader(symbol_2, 'yahoo', start_date, end_date)\n",
    "                df_2 = df_2.reset_index()\n",
    "                break\n",
    "            except(KeyError, OSError):\n",
    "                print(color.BOLD + color.UNDERLINE + f'> {symbol_2} is not a valid stock symbol. Please try again...' + color.END)\n",
    "\n",
    "                \n",
    "        fig = go.Figure()\n",
    "\n",
    "        fig.add_trace(go.Scatter(\n",
    "                    x=df.Date,\n",
    "                    y=df['Adj Close'],\n",
    "                    name=f'{symbol} Stock',\n",
    "                    line_color='dodgerblue',\n",
    "                    opacity=0.9))\n",
    "        \n",
    "        fig.add_trace(go.Scatter(\n",
    "                    x=df_2.Date,\n",
    "                    y=df_2['Adj Close'],\n",
    "                    name=f'{symbol_2} Stock',\n",
    "                    line_color='dimgray',\n",
    "                    opacity=0.9))\n",
    "    \n",
    "    \n",
    "        fig.update_layout(title=f'Price Comparison of {symbol} Stock and {symbol_2} Stock from {start_date} to {end_date}', \n",
    "                                    yaxis_title='Closing Day Price Value in USD',\n",
    "                                    template='plotly_dark',\n",
    "                                    xaxis_tickfont_size=14,\n",
    "                                    yaxis_tickfont_size=14)\n",
    "        \n",
    "        fig.show()\n",
    "    \n",
    "\n",
    "        \n",
    "   \n",
    "    \n",
    "    \n",
    "    # Option 5: Your Stock Tricker 180 Past-Days Analysis.\n",
    "    elif choice == '5' or choice == 'E' or choice == 'e':\n",
    "\n",
    "        try:\n",
    "            # Save the date of today in the variable \"today\"\n",
    "            today = date.today()\n",
    "            # We convert the type of the variable in the format %Y-%m-%d\n",
    "            today = today.strftime('%Y-%m-%d')\n",
    "            # Save the date of today 6 months ago, by subtracting 6 months from the date of today\n",
    "            six_months = date.today() - relativedelta(months=+6)\n",
    "            six_months = six_months.strftime('%Y-%m-%d')\n",
    "        \n",
    "            df2 = yf.Ticker(symbol)\n",
    "            # Save the Analyst Recommendations in \"rec\"\n",
    "            rec = df2.recommendations\n",
    "            # The DataFrame \"rec\" has 4 columns: \"Firm\", \"To Grade\", \"From Grade\" and \"Action\"\n",
    "            # The index is the date (\"DatetimeIndex\")\n",
    "    \n",
    "            # Now we select only those columns which have the index(date) from \"six months\" to \"today\"\n",
    "            rec = rec.loc[six_months:today,]\n",
    "        \n",
    "            # Unfortunately in some cases no data is available, so that the DataFrame is empty. Then the user gets the following message\n",
    "            if rec.empty:\n",
    "                print(color.BOLD + color.UNDERLINE + \"\\n> Unfortunately, there are no recommendations by analysts provided for your chosen stock!\" + color.END)\n",
    "                    \n",
    "                    \n",
    "            else:    \n",
    "                # Replace the index with simple sequential numbers and save the old index (\"DatetimeIndex\") as a variable \"Date\"\n",
    "                rec = rec.reset_index()\n",
    "    \n",
    "                # For our analysis we don't need the variables/columns \"Firm\", \"From Grade\" and \"Action\", therefore we delete them\n",
    "                rec.drop(['Firm', 'From Grade', 'Action'], axis=1, inplace=True)\n",
    "\n",
    "                # We change the name of the variables/columns\n",
    "                rec.columns = (['date', 'grade'])\n",
    "        \n",
    "                # Now we add a new variable/column \"value\", which we give the value 1 for each row in order to sum up the values based on the contents of \"grade\"\n",
    "                rec['value'] = 1\n",
    "\n",
    "                # Now we group by the content of \"grade\" and sum their respective values \n",
    "                rec = rec.groupby(['grade']).sum()\n",
    "                # The DataFrame \"rec\" has now 1 variable/column which is the value, the index are the different names from the variable \"grade\"\n",
    "                # However for the plotting we need the index as a variable \n",
    "                rec = rec.reset_index()\n",
    "        \n",
    "                # For the labels we assign the content/names of the variable \"grade\" and for the values we assign the content of \"values\" \n",
    "                fig = go.Figure(data=[go.Pie(labels=rec.grade,\n",
    "                                                values=rec.value,\n",
    "                                                hole=.3)])\n",
    "                # Give a title\n",
    "                fig.update_layout(template='plotly_dark', title_text=f'Analyst Recommendations of {symbol} Stock from {six_months} to {today}')\n",
    "\n",
    "                # Plotting the chart\n",
    "                fig.show()  \n",
    "            \n",
    "\n",
    "    \n",
    "        # For some stocks the imported data is distorted and in a wrong format, so that an error appears\n",
    "        # In this cases the user gets the following message:\n",
    "        except(ValueError,AttributeError):\n",
    "            print(color.BOLD + color.UNDERLINE + '\\n> Unfortunately, there are no recommendations provided for your chosen stock!' + color.END) \n",
    "\n",
    " \n",
    "\n",
    "    \n",
    "    # OPTION 6: Quit the program\n",
    "    elif choice == '6' or choice == 'Q' or choice == 'q':\n",
    "        print(color.BLUE + color.BOLD + '\\n> If you like our results, please share our solution with others! Thank you!' + color.END)\n",
    "        choice = None\n",
    "        \n",
    "\n",
    "    # If user inputs a non valid option\n",
    "    else:\n",
    "        print(color.BOLD + color.UNDERLINE + '\\n> Your Selection is INVALID! Please select a correct Option from our list.' + color.END)\n",
    "\n"
   ]
  },
  {
   "cell_type": "markdown",
   "metadata": {
    "id": "i-Cw3UAYJpN5"
   },
   "source": [
    "**Potential Stock Prediction**"
   ]
  }
 ],
 "metadata": {
  "colab": {
   "collapsed_sections": [],
   "name": "ML_Yahoo_Fianance_Stock.ipynb",
   "provenance": []
  },
  "kernelspec": {
   "display_name": "Python 3",
   "language": "python",
   "name": "python3"
  },
  "language_info": {
   "codemirror_mode": {
    "name": "ipython",
    "version": 3
   },
   "file_extension": ".py",
   "mimetype": "text/x-python",
   "name": "python",
   "nbconvert_exporter": "python",
   "pygments_lexer": "ipython3",
   "version": "3.8.5-final"
  }
 },
 "nbformat": 4,
 "nbformat_minor": 1
}